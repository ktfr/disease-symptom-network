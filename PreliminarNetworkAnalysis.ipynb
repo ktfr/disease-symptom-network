{
 "cells": [
  {
   "cell_type": "code",
   "execution_count": null,
   "metadata": {},
   "outputs": [],
   "source": [
    "# imports\n",
    "import pandas as pd\n",
    "import os\n",
    "import kagglehub\n",
    "import numpy as np\n",
    "import networkx as nx\n",
    "import matplotlib.pyplot as plt\n",
    "\n",
    "# import kaggle "
   ]
  },
  {
   "cell_type": "code",
   "execution_count": 5,
   "metadata": {},
   "outputs": [
    {
     "name": "stdout",
     "output_type": "stream",
     "text": [
      "Defaulting to user installation because normal site-packages is not writeable\n",
      "Collecting matplotlib\n",
      "  Downloading matplotlib-3.9.4-cp39-cp39-macosx_11_0_arm64.whl.metadata (11 kB)\n",
      "Collecting contourpy>=1.0.1 (from matplotlib)\n",
      "  Downloading contourpy-1.3.0-cp39-cp39-macosx_11_0_arm64.whl.metadata (5.4 kB)\n",
      "Collecting cycler>=0.10 (from matplotlib)\n",
      "  Using cached cycler-0.12.1-py3-none-any.whl.metadata (3.8 kB)\n",
      "Collecting fonttools>=4.22.0 (from matplotlib)\n",
      "  Downloading fonttools-4.56.0-cp39-cp39-macosx_10_9_universal2.whl.metadata (101 kB)\n",
      "Collecting kiwisolver>=1.3.1 (from matplotlib)\n",
      "  Downloading kiwisolver-1.4.7-cp39-cp39-macosx_11_0_arm64.whl.metadata (6.3 kB)\n",
      "Requirement already satisfied: numpy>=1.23 in /Users/kai/Library/Python/3.9/lib/python/site-packages (from matplotlib) (2.0.2)\n",
      "Requirement already satisfied: packaging>=20.0 in /Users/kai/Library/Python/3.9/lib/python/site-packages (from matplotlib) (24.2)\n",
      "Collecting pillow>=8 (from matplotlib)\n",
      "  Downloading pillow-11.1.0-cp39-cp39-macosx_11_0_arm64.whl.metadata (9.1 kB)\n",
      "Collecting pyparsing>=2.3.1 (from matplotlib)\n",
      "  Using cached pyparsing-3.2.1-py3-none-any.whl.metadata (5.0 kB)\n",
      "Requirement already satisfied: python-dateutil>=2.7 in /Users/kai/Library/Python/3.9/lib/python/site-packages (from matplotlib) (2.9.0.post0)\n",
      "Requirement already satisfied: importlib-resources>=3.2.0 in /Users/kai/Library/Python/3.9/lib/python/site-packages (from matplotlib) (5.13.0)\n",
      "Requirement already satisfied: zipp>=3.1.0 in /Users/kai/Library/Python/3.9/lib/python/site-packages (from importlib-resources>=3.2.0->matplotlib) (3.21.0)\n",
      "Requirement already satisfied: six>=1.5 in /Applications/Xcode.app/Contents/Developer/Library/Frameworks/Python3.framework/Versions/3.9/lib/python3.9/site-packages (from python-dateutil>=2.7->matplotlib) (1.15.0)\n",
      "Downloading matplotlib-3.9.4-cp39-cp39-macosx_11_0_arm64.whl (7.8 MB)\n",
      "\u001b[2K   \u001b[90m━━━━━━━━━━━━━━━━━━━━━━━━━━━━━━━━━━━━━━━━\u001b[0m \u001b[32m7.8/7.8 MB\u001b[0m \u001b[31m19.6 MB/s\u001b[0m eta \u001b[36m0:00:00\u001b[0m00:01\u001b[0m00:01\u001b[0m\n",
      "\u001b[?25hDownloading contourpy-1.3.0-cp39-cp39-macosx_11_0_arm64.whl (249 kB)\n",
      "Using cached cycler-0.12.1-py3-none-any.whl (8.3 kB)\n",
      "Downloading fonttools-4.56.0-cp39-cp39-macosx_10_9_universal2.whl (2.8 MB)\n",
      "\u001b[2K   \u001b[90m━━━━━━━━━━━━━━━━━━━━━━━━━━━━━━━━━━━━━━━━\u001b[0m \u001b[32m2.8/2.8 MB\u001b[0m \u001b[31m30.2 MB/s\u001b[0m eta \u001b[36m0:00:00\u001b[0m\n",
      "\u001b[?25hDownloading kiwisolver-1.4.7-cp39-cp39-macosx_11_0_arm64.whl (64 kB)\n",
      "Downloading pillow-11.1.0-cp39-cp39-macosx_11_0_arm64.whl (3.1 MB)\n",
      "\u001b[2K   \u001b[90m━━━━━━━━━━━━━━━━━━━━━━━━━━━━━━━━━━━━━━━━\u001b[0m \u001b[32m3.1/3.1 MB\u001b[0m \u001b[31m29.7 MB/s\u001b[0m eta \u001b[36m0:00:00\u001b[0m\n",
      "\u001b[?25hUsing cached pyparsing-3.2.1-py3-none-any.whl (107 kB)\n",
      "Installing collected packages: pyparsing, pillow, kiwisolver, fonttools, cycler, contourpy, matplotlib\n",
      "Successfully installed contourpy-1.3.0 cycler-0.12.1 fonttools-4.56.0 kiwisolver-1.4.7 matplotlib-3.9.4 pillow-11.1.0 pyparsing-3.2.1\n",
      "\n",
      "\u001b[1m[\u001b[0m\u001b[34;49mnotice\u001b[0m\u001b[1;39;49m]\u001b[0m\u001b[39;49m A new release of pip is available: \u001b[0m\u001b[31;49m25.0\u001b[0m\u001b[39;49m -> \u001b[0m\u001b[32;49m25.0.1\u001b[0m\n",
      "\u001b[1m[\u001b[0m\u001b[34;49mnotice\u001b[0m\u001b[1;39;49m]\u001b[0m\u001b[39;49m To update, run: \u001b[0m\u001b[32;49m/Applications/Xcode.app/Contents/Developer/usr/bin/python3 -m pip install --upgrade pip\u001b[0m\n",
      "Note: you may need to restart the kernel to use updated packages.\n"
     ]
    }
   ],
   "source": [
    "pip install matplotlib"
   ]
  },
  {
   "cell_type": "code",
   "execution_count": 6,
   "metadata": {},
   "outputs": [
    {
     "name": "stderr",
     "output_type": "stream",
     "text": [
      "/Users/kai/Library/Python/3.9/lib/python/site-packages/urllib3/__init__.py:35: NotOpenSSLWarning: urllib3 v2 only supports OpenSSL 1.1.1+, currently the 'ssl' module is compiled with 'LibreSSL 2.8.3'. See: https://github.com/urllib3/urllib3/issues/3020\n",
      "  warnings.warn(\n",
      "/Users/kai/Library/Python/3.9/lib/python/site-packages/tqdm/auto.py:21: TqdmWarning: IProgress not found. Please update jupyter and ipywidgets. See https://ipywidgets.readthedocs.io/en/stable/user_install.html\n",
      "  from .autonotebook import tqdm as notebook_tqdm\n"
     ]
    }
   ],
   "source": [
    "# imports\n",
    "import pandas as pd\n",
    "import os\n",
    "import kagglehub\n",
    "import numpy as np\n",
    "import networkx as nx\n",
    "import matplotlib.pyplot as plt\n",
    "\n",
    "# import kaggle \n",
    "\n"
   ]
  },
  {
   "cell_type": "code",
   "execution_count": null,
   "metadata": {},
   "outputs": [],
   "source": []
  },
  {
   "cell_type": "code",
   "execution_count": 7,
   "metadata": {},
   "outputs": [],
   "source": [
    "import pickle\n",
    "\n",
    "with open(\"edges_df_sorted.pk1\", \"rb\") as f:\n",
    "    edges_df_sorted = pickle.load(f)\n",
    "\n",
    "with open(\"edges_df.pk1\", \"rb\") as f:\n",
    "    edges_df = pickle.load(f)\n",
    "    \n",
    "with open(\"df_aggregated.pk1\", \"rb\") as f:\n",
    "    df_aggregated = pickle.load(f)\n",
    "\n",
    "\n"
   ]
  },
  {
   "cell_type": "code",
   "execution_count": 8,
   "metadata": {},
   "outputs": [
    {
     "data": {
      "text/html": [
       "<div>\n",
       "<style scoped>\n",
       "    .dataframe tbody tr th:only-of-type {\n",
       "        vertical-align: middle;\n",
       "    }\n",
       "\n",
       "    .dataframe tbody tr th {\n",
       "        vertical-align: top;\n",
       "    }\n",
       "\n",
       "    .dataframe thead th {\n",
       "        text-align: right;\n",
       "    }\n",
       "</style>\n",
       "<table border=\"1\" class=\"dataframe\">\n",
       "  <thead>\n",
       "    <tr style=\"text-align: right;\">\n",
       "      <th></th>\n",
       "      <th>Disease1</th>\n",
       "      <th>Disease2</th>\n",
       "      <th>Weight</th>\n",
       "    </tr>\n",
       "  </thead>\n",
       "  <tbody>\n",
       "    <tr>\n",
       "      <th>0</th>\n",
       "      <td>abdominal aortic aneurysm</td>\n",
       "      <td>abdominal hernia</td>\n",
       "      <td>1</td>\n",
       "    </tr>\n",
       "    <tr>\n",
       "      <th>1</th>\n",
       "      <td>abdominal aortic aneurysm</td>\n",
       "      <td>abscess of the lung</td>\n",
       "      <td>1</td>\n",
       "    </tr>\n",
       "    <tr>\n",
       "      <th>2</th>\n",
       "      <td>abdominal aortic aneurysm</td>\n",
       "      <td>acute bronchiolitis</td>\n",
       "      <td>1</td>\n",
       "    </tr>\n",
       "    <tr>\n",
       "      <th>3</th>\n",
       "      <td>abdominal aortic aneurysm</td>\n",
       "      <td>acute bronchitis</td>\n",
       "      <td>1</td>\n",
       "    </tr>\n",
       "    <tr>\n",
       "      <th>4</th>\n",
       "      <td>abdominal aortic aneurysm</td>\n",
       "      <td>acute bronchospasm</td>\n",
       "      <td>1</td>\n",
       "    </tr>\n",
       "    <tr>\n",
       "      <th>...</th>\n",
       "      <td>...</td>\n",
       "      <td>...</td>\n",
       "      <td>...</td>\n",
       "    </tr>\n",
       "    <tr>\n",
       "      <th>66556</th>\n",
       "      <td>white blood cell disease</td>\n",
       "      <td>whooping cough</td>\n",
       "      <td>2</td>\n",
       "    </tr>\n",
       "    <tr>\n",
       "      <th>66557</th>\n",
       "      <td>white blood cell disease</td>\n",
       "      <td>wilson disease</td>\n",
       "      <td>1</td>\n",
       "    </tr>\n",
       "    <tr>\n",
       "      <th>66558</th>\n",
       "      <td>white blood cell disease</td>\n",
       "      <td>yeast infection</td>\n",
       "      <td>1</td>\n",
       "    </tr>\n",
       "    <tr>\n",
       "      <th>66559</th>\n",
       "      <td>whooping cough</td>\n",
       "      <td>wilson disease</td>\n",
       "      <td>1</td>\n",
       "    </tr>\n",
       "    <tr>\n",
       "      <th>66560</th>\n",
       "      <td>whooping cough</td>\n",
       "      <td>zenker diverticulum</td>\n",
       "      <td>1</td>\n",
       "    </tr>\n",
       "  </tbody>\n",
       "</table>\n",
       "<p>66561 rows × 3 columns</p>\n",
       "</div>"
      ],
      "text/plain": [
       "                        Disease1             Disease2  Weight\n",
       "0      abdominal aortic aneurysm     abdominal hernia       1\n",
       "1      abdominal aortic aneurysm  abscess of the lung       1\n",
       "2      abdominal aortic aneurysm  acute bronchiolitis       1\n",
       "3      abdominal aortic aneurysm     acute bronchitis       1\n",
       "4      abdominal aortic aneurysm   acute bronchospasm       1\n",
       "...                          ...                  ...     ...\n",
       "66556   white blood cell disease       whooping cough       2\n",
       "66557   white blood cell disease       wilson disease       1\n",
       "66558   white blood cell disease      yeast infection       1\n",
       "66559             whooping cough       wilson disease       1\n",
       "66560             whooping cough  zenker diverticulum       1\n",
       "\n",
       "[66561 rows x 3 columns]"
      ]
     },
     "execution_count": 8,
     "metadata": {},
     "output_type": "execute_result"
    }
   ],
   "source": [
    "edges_df"
   ]
  },
  {
   "cell_type": "code",
   "execution_count": 9,
   "metadata": {},
   "outputs": [
    {
     "name": "stdout",
     "output_type": "stream",
     "text": [
      "                        Disease1                  Disease2  Weight\n",
      "184    abdominal aortic aneurysm   pain after an operation       2\n",
      "391             abdominal hernia   pain after an operation       2\n",
      "602              abscess of nose   pain after an operation       1\n",
      "1110      abscess of the pharynx   pain after an operation       2\n",
      "1548                   achalasia   pain after an operation       1\n",
      "...                          ...                       ...     ...\n",
      "59615    pain after an operation                vulvodynia       5\n",
      "59616    pain after an operation  white blood cell disease       3\n",
      "59617    pain after an operation            whooping cough       1\n",
      "59618    pain after an operation           yeast infection       1\n",
      "59619    pain after an operation       zenker diverticulum       1\n",
      "\n",
      "[390 rows x 3 columns]\n"
     ]
    }
   ],
   "source": [
    "#ignore, didn't know 'pain after an operation' would be a disease\n",
    "disease_of_interest = \"pain after an operation\"\n",
    "\n",
    "filtered_edges = edges_df[(edges_df[\"Disease1\"] == disease_of_interest) | (edges_df[\"Disease2\"] == disease_of_interest)]\n",
    "\n",
    "print(filtered_edges)"
   ]
  },
  {
   "cell_type": "code",
   "execution_count": 10,
   "metadata": {},
   "outputs": [
    {
     "name": "stdout",
     "output_type": "stream",
     "text": [
      "Nodes: 773\n",
      "Edges: 66561\n",
      "Network Density 0.2230760981037476\n"
     ]
    }
   ],
   "source": [
    "G = nx.Graph()\n",
    "\n",
    "for _, row in edges_df.iterrows():\n",
    "    G.add_edge(row[\"Disease1\"], row[\"Disease2\"], weight=row[\"Weight\"])\n",
    "\n",
    "print(\"Nodes:\", G.number_of_nodes())\n",
    "\n",
    "print(\"Edges:\", G.number_of_edges())\n",
    "print(\"Network Density\" , nx.density(G))\n",
    "#Network density is 0.22, which is fairly low. 1.0 would be a fully connected graph\n",
    "#There are some distinct cluters, some diseases share symptoms, and others are only connected to a few\n",
    "#Some diseases have a specific symptom profile\n",
    "\n"
   ]
  },
  {
   "cell_type": "code",
   "execution_count": 11,
   "metadata": {},
   "outputs": [
    {
     "data": {
      "image/png": "[encoded data removed]",
      "text/plain": [
       "<Figure size 640x480 with 1 Axes>"
      ]
     },
     "metadata": {},
     "output_type": "display_data"
    }
   ],
   "source": [
    "degrees = [G.degree(n) for n in G.nodes()]\n",
    "plt.hist(degrees, bins=20)\n",
    "plt.xlabel(\"Degree\")\n",
    "plt.ylabel(\"Frequency\")\n",
    "plt.title(\"Degree Distribution of Diseases\")\n",
    "plt.show()"
   ]
  },
  {
   "cell_type": "code",
   "execution_count": 12,
   "metadata": {},
   "outputs": [
    {
     "data": {
      "image/png": "[encoded data removed]",
      "text/plain": [
       "<Figure size 640x480 with 1 Axes>"
      ]
     },
     "metadata": {},
     "output_type": "display_data"
    }
   ],
   "source": [
    "average_degree = np.mean(degrees)\n",
    "\n",
    "# Plot histogram\n",
    "plt.hist(degrees, bins=20)\n",
    "plt.xlabel(\"Degree\")\n",
    "plt.ylabel(\"Frequency\")\n",
    "plt.title(\"Degree Distribution of Diseases\")\n",
    "\n",
    "# Display average degree in the plot\n",
    "plt.figtext(0.15, 0.85, f'Avg Degree: {average_degree:.2f}', fontsize=12)\n",
    "\n",
    "plt.show()"
   ]
  },
  {
   "cell_type": "code",
   "execution_count": null,
   "metadata": {},
   "outputs": [],
   "source": [
    "degree_centrality = nx.degree_centrality(G)\n",
    "betweenness_centrality = nx.betweenness_centrality(G)\n",
    "closeness_centrality = nx.closeness_centrality(G)\n",
    "eigenvector_centrality = nx.eigenvector_centrality(G, max_iter=1000)"
   ]
  },
  {
   "cell_type": "code",
   "execution_count": null,
   "metadata": {},
   "outputs": [
    {
     "name": "stdout",
     "output_type": "stream",
     "text": [
      "Top 5 diseases by Degree Centrality: [('hypokalemia', 0.522020725388601), ('drug reaction', 0.5077720207253886), ('pain after an operation', 0.5051813471502591), ('shingles (herpes zoster)', 0.49093264248704666), ('acute stress reaction', 0.48704663212435234)]\n"
     ]
    }
   ],
   "source": [
    "print(\"Top 5 diseases by Degree Centrality:\", sorted(degree_centrality.items(), key=lambda x: x[1], reverse=True)[:5])\n",
    "#these diseases have the highest number of direct symptom based connections to other diseases\n",
    "\n",
    "#Drug reaction:\n",
    "    #high connectivity suggests drug-induced conditions are frequently misdiagnosed as other illnesses.\n",
    "    \n",
    "#Pain after an operation:\n",
    "    #Post operation pain is common across many surgical procedures and may be mistaken for underlying infections or some other issues\n",
    "    \n",
    "#Shingles:\n",
    "    #High centrality suggests it may often be confused with other viral infections or autoimmune conditions.\n",
    "    \n",
    "#Acute Stress Reaction:\n",
    "    #indicates stress-related symptoms might contribute to misdiagnosis of physical diseases.\n",
    "    \n",
    "\n"
   ]
  },
  {
   "cell_type": "code",
   "execution_count": null,
   "metadata": {},
   "outputs": [
    {
     "name": "stdout",
     "output_type": "stream",
     "text": [
      "Top 5 diseases by Betweenness Centrality: [('shingles (herpes zoster)', 0.008302474423198791), ('lyme disease', 0.006565076328624316), ('parasitic disease', 0.005502711106188218), ('lymphadenitis', 0.005303623907557194), ('drug reaction', 0.005164641297152865)]\n"
     ]
    }
   ],
   "source": [
    "print(\"Top 5 diseases by Betweenness Centrality:\", sorted(betweenness_centrality.items(), key=lambda x: x[1], reverse=True)[:5])\n",
    "\n",
    "#Shingles:\n",
    "    #Shingles has symptoms (nerve pain, rashes, fever) that overlap with both viral infections and autoimmune conditions.\n",
    "    #This suggests shingles acts as a key diagnostic confusion point, potentially being mistaken for other neurological, dermatological, or viral illnesses.\n",
    "    \n",
    "#Parasitic disease:\n",
    "    #Many parasitic diseases have vague symptoms (abdominal pain, diarrhea, fatigue), which means they might connect conditions like food poisoning, viral infections, and malabsorption disorders.\n",
    "    \n",
    "#Drug Reaction:\n",
    "    #High betweenness suggests that drug reactions bridge multiple medical conditions, leading to frequent confusion with infections, allergies, or autoimmune issues.\n",
    "    \n",
    "#These diseases connect different clusters, making them major misdiagnosis risks.\n",
    "#Doctors should carefully differentiate these from diseases in both of their clusters.\n",
    "\n"
   ]
  },
  {
   "cell_type": "code",
   "execution_count": null,
   "metadata": {},
   "outputs": [
    {
     "name": "stdout",
     "output_type": "stream",
     "text": [
      "Top 5 diseases by Closeness Centrality: [('hypokalemia', 0.6765994741454864), ('drug reaction', 0.6701388888888888), ('pain after an operation', 0.6689774696707106), ('shingles (herpes zoster)', 0.6626609442060086), ('acute stress reaction', 0.660958904109589)]\n"
     ]
    }
   ],
   "source": [
    "print(\"Top 5 diseases by Closeness Centrality:\", sorted(closeness_centrality.items(), key=lambda x: x[1], reverse=True)[:5])\n",
    "#These diseases are highly reachable in the network, meaning they are common misdiagnosis or differential diagnosis candidates.\n",
    "#Doctors should always consider these diseases in diagnostic decisions since they connect to many symptomatically similar conditions.\n",
    "#These diseases may be important in machine learning models for automated diagnosis, as they likely appear as early-stage possibilities in differential diagnoses.\n",
    "\n"
   ]
  },
  {
   "cell_type": "code",
   "execution_count": null,
   "metadata": {},
   "outputs": [
    {
     "name": "stdout",
     "output_type": "stream",
     "text": [
      "Top 5 diseases by Eigenvector Centrality: [('hypokalemia', 0.0820095696120754), ('pain after an operation', 0.07735926826671709), ('gastritis', 0.07639006170018713), ('drug reaction', 0.07499439055255328), ('acute kidney injury', 0.07408833976707525)]\n"
     ]
    }
   ],
   "source": [
    "print(\"Top 5 diseases by Eigenvector Centrality:\", sorted(eigenvector_centrality.items(), key=lambda x: x[1], reverse=True)[:5])\n",
    "\n",
    "\n",
    "#Since it is so interconnected, doctors should always consider checking for underlying causes of hypokalemia, as it may be a secondary symptom of another major condition.\n",
    "\n",
    "#understanding postoperative symptom patterns could help reduce unnecessary tests and avoid confusion with unrelated conditions.\n",
    "\n",
    "#These diseases act as key “hubs” in the network, influencing diagnosis patterns across multiple categories.\n",
    "#Diseases with high eigenvector centrality may serve as key “signals” in differential diagnosis algorithms.\n",
    "#Misdiagnosis risks are high when these diseases are confused with others that have similar symptoms but different underlying causes."
   ]
  }
 ],
 "metadata": {
  "kernelspec": {
   "display_name": "Python 3",
   "language": "python",
   "name": "python3"
  },
  "language_info": {
   "codemirror_mode": {
    "name": "ipython",
    "version": 3
   },
   "file_extension": ".py",
   "mimetype": "text/x-python",
   "name": "python",
   "nbconvert_exporter": "python",
   "pygments_lexer": "ipython3",
   "version": "3.9.6"
  },
  "orig_nbformat": 4
 },
 "nbformat": 4,
 "nbformat_minor": 2
}
