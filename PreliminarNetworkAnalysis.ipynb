{
 "cells": [
  {
   "cell_type": "code",
   "execution_count": 2,
   "metadata": {},
   "outputs": [
    {
     "name": "stderr",
     "output_type": "stream",
     "text": [
      "/Library/Frameworks/Python.framework/Versions/3.9/lib/python3.9/site-packages/tqdm/auto.py:21: TqdmWarning: IProgress not found. Please update jupyter and ipywidgets. See https://ipywidgets.readthedocs.io/en/stable/user_install.html\n",
      "  from .autonotebook import tqdm as notebook_tqdm\n"
     ]
    }
   ],
   "source": [
    "# imports\n",
    "import pandas as pd\n",
    "import os\n",
    "import kagglehub\n",
    "import numpy as np\n",
    "import networkx as nx\n",
    "import matplotlib.pyplot as plt\n",
    "\n",
    "# import kaggle "
   ]
  },
  {
   "cell_type": "code",
   "execution_count": 3,
   "metadata": {},
   "outputs": [
    {
     "name": "stdout",
     "output_type": "stream",
     "text": [
      "Requirement already satisfied: matplotlib in /Library/Frameworks/Python.framework/Versions/3.9/lib/python3.9/site-packages (3.7.2)\n",
      "Requirement already satisfied: contourpy>=1.0.1 in /Library/Frameworks/Python.framework/Versions/3.9/lib/python3.9/site-packages (from matplotlib) (1.1.0)\n",
      "Requirement already satisfied: cycler>=0.10 in /Library/Frameworks/Python.framework/Versions/3.9/lib/python3.9/site-packages (from matplotlib) (0.11.0)\n",
      "Requirement already satisfied: fonttools>=4.22.0 in /Library/Frameworks/Python.framework/Versions/3.9/lib/python3.9/site-packages (from matplotlib) (4.41.1)\n",
      "Requirement already satisfied: kiwisolver>=1.0.1 in /Library/Frameworks/Python.framework/Versions/3.9/lib/python3.9/site-packages (from matplotlib) (1.4.4)\n",
      "Requirement already satisfied: numpy>=1.20 in /Library/Frameworks/Python.framework/Versions/3.9/lib/python3.9/site-packages (from matplotlib) (1.25.2)\n",
      "Requirement already satisfied: packaging>=20.0 in /Library/Frameworks/Python.framework/Versions/3.9/lib/python3.9/site-packages (from matplotlib) (23.1)\n",
      "Requirement already satisfied: pillow>=6.2.0 in /Library/Frameworks/Python.framework/Versions/3.9/lib/python3.9/site-packages (from matplotlib) (10.0.0)\n",
      "Requirement already satisfied: pyparsing<3.1,>=2.3.1 in /Library/Frameworks/Python.framework/Versions/3.9/lib/python3.9/site-packages (from matplotlib) (3.0.9)\n",
      "Requirement already satisfied: python-dateutil>=2.7 in /Library/Frameworks/Python.framework/Versions/3.9/lib/python3.9/site-packages (from matplotlib) (2.8.2)\n",
      "Requirement already satisfied: importlib-resources>=3.2.0 in /Library/Frameworks/Python.framework/Versions/3.9/lib/python3.9/site-packages (from matplotlib) (6.0.0)\n",
      "Requirement already satisfied: zipp>=3.1.0 in /Library/Frameworks/Python.framework/Versions/3.9/lib/python3.9/site-packages (from importlib-resources>=3.2.0->matplotlib) (3.16.2)\n",
      "Requirement already satisfied: six>=1.5 in /Library/Frameworks/Python.framework/Versions/3.9/lib/python3.9/site-packages (from python-dateutil>=2.7->matplotlib) (1.16.0)\n",
      "\n",
      "\u001b[1m[\u001b[0m\u001b[34;49mnotice\u001b[0m\u001b[1;39;49m]\u001b[0m\u001b[39;49m A new release of pip is available: \u001b[0m\u001b[31;49m24.0\u001b[0m\u001b[39;49m -> \u001b[0m\u001b[32;49m25.0.1\u001b[0m\n",
      "\u001b[1m[\u001b[0m\u001b[34;49mnotice\u001b[0m\u001b[1;39;49m]\u001b[0m\u001b[39;49m To update, run: \u001b[0m\u001b[32;49mpip install --upgrade pip\u001b[0m\n",
      "Note: you may need to restart the kernel to use updated packages.\n"
     ]
    }
   ],
   "source": [
    "pip install matplotlib"
   ]
  },
  {
   "cell_type": "code",
   "execution_count": 4,
   "metadata": {},
   "outputs": [],
   "source": [
    "# imports\n",
    "import pandas as pd\n",
    "import os\n",
    "import kagglehub\n",
    "import numpy as np\n",
    "import networkx as nx\n",
    "import matplotlib.pyplot as plt\n",
    "\n",
    "# import kaggle \n",
    "\n"
   ]
  },
  {
   "cell_type": "code",
   "execution_count": null,
   "metadata": {},
   "outputs": [],
   "source": []
  },
  {
   "cell_type": "code",
   "execution_count": 5,
   "metadata": {},
   "outputs": [],
   "source": [
    "import pickle\n",
    "\n",
    "with open(\"edges_df_sorted.pk1\", \"rb\") as f:\n",
    "    edges_df_sorted = pickle.load(f)\n",
    "\n",
    "with open(\"edges_df.pk1\", \"rb\") as f:\n",
    "    edges_df = pickle.load(f)\n",
    "    \n",
    "with open(\"df_aggregated.pk1\", \"rb\") as f:\n",
    "    df_aggregated = pickle.load(f)\n",
    "\n",
    "\n"
   ]
  },
  {
   "cell_type": "code",
   "execution_count": 6,
   "metadata": {},
   "outputs": [
    {
     "data": {
      "text/html": [
       "<div>\n",
       "<style scoped>\n",
       "    .dataframe tbody tr th:only-of-type {\n",
       "        vertical-align: middle;\n",
       "    }\n",
       "\n",
       "    .dataframe tbody tr th {\n",
       "        vertical-align: top;\n",
       "    }\n",
       "\n",
       "    .dataframe thead th {\n",
       "        text-align: right;\n",
       "    }\n",
       "</style>\n",
       "<table border=\"1\" class=\"dataframe\">\n",
       "  <thead>\n",
       "    <tr style=\"text-align: right;\">\n",
       "      <th></th>\n",
       "      <th>Disease1</th>\n",
       "      <th>Disease2</th>\n",
       "      <th>Weight</th>\n",
       "    </tr>\n",
       "  </thead>\n",
       "  <tbody>\n",
       "    <tr>\n",
       "      <th>0</th>\n",
       "      <td>abdominal aortic aneurysm</td>\n",
       "      <td>abdominal hernia</td>\n",
       "      <td>1</td>\n",
       "    </tr>\n",
       "    <tr>\n",
       "      <th>1</th>\n",
       "      <td>abdominal aortic aneurysm</td>\n",
       "      <td>abscess of the lung</td>\n",
       "      <td>1</td>\n",
       "    </tr>\n",
       "    <tr>\n",
       "      <th>2</th>\n",
       "      <td>abdominal aortic aneurysm</td>\n",
       "      <td>acute bronchiolitis</td>\n",
       "      <td>1</td>\n",
       "    </tr>\n",
       "    <tr>\n",
       "      <th>3</th>\n",
       "      <td>abdominal aortic aneurysm</td>\n",
       "      <td>acute bronchitis</td>\n",
       "      <td>1</td>\n",
       "    </tr>\n",
       "    <tr>\n",
       "      <th>4</th>\n",
       "      <td>abdominal aortic aneurysm</td>\n",
       "      <td>acute bronchospasm</td>\n",
       "      <td>1</td>\n",
       "    </tr>\n",
       "    <tr>\n",
       "      <th>...</th>\n",
       "      <td>...</td>\n",
       "      <td>...</td>\n",
       "      <td>...</td>\n",
       "    </tr>\n",
       "    <tr>\n",
       "      <th>66556</th>\n",
       "      <td>white blood cell disease</td>\n",
       "      <td>whooping cough</td>\n",
       "      <td>2</td>\n",
       "    </tr>\n",
       "    <tr>\n",
       "      <th>66557</th>\n",
       "      <td>white blood cell disease</td>\n",
       "      <td>wilson disease</td>\n",
       "      <td>1</td>\n",
       "    </tr>\n",
       "    <tr>\n",
       "      <th>66558</th>\n",
       "      <td>white blood cell disease</td>\n",
       "      <td>yeast infection</td>\n",
       "      <td>1</td>\n",
       "    </tr>\n",
       "    <tr>\n",
       "      <th>66559</th>\n",
       "      <td>whooping cough</td>\n",
       "      <td>wilson disease</td>\n",
       "      <td>1</td>\n",
       "    </tr>\n",
       "    <tr>\n",
       "      <th>66560</th>\n",
       "      <td>whooping cough</td>\n",
       "      <td>zenker diverticulum</td>\n",
       "      <td>1</td>\n",
       "    </tr>\n",
       "  </tbody>\n",
       "</table>\n",
       "<p>66561 rows × 3 columns</p>\n",
       "</div>"
      ],
      "text/plain": [
       "                        Disease1             Disease2  Weight\n",
       "0      abdominal aortic aneurysm     abdominal hernia       1\n",
       "1      abdominal aortic aneurysm  abscess of the lung       1\n",
       "2      abdominal aortic aneurysm  acute bronchiolitis       1\n",
       "3      abdominal aortic aneurysm     acute bronchitis       1\n",
       "4      abdominal aortic aneurysm   acute bronchospasm       1\n",
       "...                          ...                  ...     ...\n",
       "66556   white blood cell disease       whooping cough       2\n",
       "66557   white blood cell disease       wilson disease       1\n",
       "66558   white blood cell disease      yeast infection       1\n",
       "66559             whooping cough       wilson disease       1\n",
       "66560             whooping cough  zenker diverticulum       1\n",
       "\n",
       "[66561 rows x 3 columns]"
      ]
     },
     "execution_count": 6,
     "metadata": {},
     "output_type": "execute_result"
    }
   ],
   "source": [
    "edges_df"
   ]
  },
  {
   "cell_type": "code",
   "execution_count": 7,
   "metadata": {},
   "outputs": [
    {
     "name": "stdout",
     "output_type": "stream",
     "text": [
      "                        Disease1                  Disease2  Weight\n",
      "184    abdominal aortic aneurysm   pain after an operation       2\n",
      "391             abdominal hernia   pain after an operation       2\n",
      "602              abscess of nose   pain after an operation       1\n",
      "1110      abscess of the pharynx   pain after an operation       2\n",
      "1548                   achalasia   pain after an operation       1\n",
      "...                          ...                       ...     ...\n",
      "59615    pain after an operation                vulvodynia       5\n",
      "59616    pain after an operation  white blood cell disease       3\n",
      "59617    pain after an operation            whooping cough       1\n",
      "59618    pain after an operation           yeast infection       1\n",
      "59619    pain after an operation       zenker diverticulum       1\n",
      "\n",
      "[390 rows x 3 columns]\n"
     ]
    }
   ],
   "source": [
    "#ignore, didn't know 'pain after an operation' would be a disease\n",
    "disease_of_interest = \"pain after an operation\"\n",
    "\n",
    "filtered_edges = edges_df[(edges_df[\"Disease1\"] == disease_of_interest) | (edges_df[\"Disease2\"] == disease_of_interest)]\n",
    "\n",
    "print(filtered_edges)"
   ]
  },
  {
   "cell_type": "code",
   "execution_count": 8,
   "metadata": {},
   "outputs": [
    {
     "name": "stdout",
     "output_type": "stream",
     "text": [
      "Nodes: 773\n",
      "Edges: 66561\n",
      "Network Density 0.2230760981037476\n"
     ]
    }
   ],
   "source": [
    "G = nx.Graph()\n",
    "\n",
    "for _, row in edges_df.iterrows():\n",
    "    G.add_edge(row[\"Disease1\"], row[\"Disease2\"], weight=row[\"Weight\"])\n",
    "\n",
    "print(\"Nodes:\", G.number_of_nodes())\n",
    "\n",
    "print(\"Edges:\", G.number_of_edges())\n",
    "print(\"Network Density\" , nx.density(G))\n",
    "#Network density is 0.22, which is fairly low. 1.0 would be a fully connected graph\n",
    "#There are some distinct cluters, some diseases share symptoms, and others are only connected to a few\n",
    "#Some diseases have a specific symptom profile\n",
    "\n"
   ]
  },
  {
   "cell_type": "code",
   "execution_count": 9,
   "metadata": {},
   "outputs": [
    {
     "data": {
      "image/png": "[encoded data removed]",
      "text/plain": [
       "<Figure size 640x480 with 1 Axes>"
      ]
     },
     "metadata": {},
     "output_type": "display_data"
    }
   ],
   "source": [
    "degrees = [G.degree(n) for n in G.nodes()]\n",
    "plt.hist(degrees, bins=20)\n",
    "plt.xlabel(\"Degree\")\n",
    "plt.ylabel(\"Frequency\")\n",
    "plt.title(\"Degree Distribution of Diseases\")\n",
    "plt.show()"
   ]
  },
  {
   "cell_type": "code",
   "execution_count": 10,
   "metadata": {},
   "outputs": [
    {
     "data": {
      "image/png": "[encoded data removed]",
      "text/plain": [
       "<Figure size 640x480 with 1 Axes>"
      ]
     },
     "metadata": {},
     "output_type": "display_data"
    }
   ],
   "source": [
    "average_degree = np.mean(degrees)\n",
    "\n",
    "# Plot histogram\n",
    "plt.hist(degrees, bins=20)\n",
    "plt.xlabel(\"Degree\")\n",
    "plt.ylabel(\"Frequency\")\n",
    "plt.title(\"Degree Distribution of Diseases\")\n",
    "\n",
    "# Display average degree in the plot\n",
    "plt.figtext(0.15, 0.85, f'Avg Degree: {average_degree:.2f}', fontsize=12)\n",
    "\n",
    "plt.show()"
   ]
  },
  {
   "cell_type": "markdown",
   "metadata": {},
   "source": [
    "# Basic Analysis"
   ]
  },
  {
   "cell_type": "code",
   "execution_count": 11,
   "metadata": {},
   "outputs": [],
   "source": [
    "# extracted from networkX cpsc 572 lecture winter 2025\n",
    "N = len(G)\n",
    "L = G.size()\n",
    "degrees = [G.degree(node) for node in G]\n",
    "kmin = min(degrees)\n",
    "kmax = max(degrees)"
   ]
  },
  {
   "cell_type": "code",
   "execution_count": 12,
   "metadata": {},
   "outputs": [
    {
     "name": "stdout",
     "output_type": "stream",
     "text": [
      "Number of nodes:  773\n",
      "Number of edges:  66561\n",
      "\n",
      "Average degree:  172.21474773609313\n",
      "Average degree (alternate calculation) 172.21474773609313\n",
      "\n",
      "Minimum degree:  20\n",
      "Maximum degree:  403\n"
     ]
    }
   ],
   "source": [
    "print(\"Number of nodes: \", N)\n",
    "print(\"Number of edges: \", L)\n",
    "print()\n",
    "print(\"Average degree: \", 2*L/N)\n",
    "print(\"Average degree (alternate calculation)\", np.mean(degrees))\n",
    "print()\n",
    "print(\"Minimum degree: \", kmin)\n",
    "print(\"Maximum degree: \", kmax)"
   ]
  },
  {
   "cell_type": "markdown",
   "metadata": {},
   "source": [
    "## Plotting Degree Distribution"
   ]
  },
  {
   "cell_type": "markdown",
   "metadata": {},
   "source": [
    "### Log-Log Plot"
   ]
  },
  {
   "cell_type": "code",
   "execution_count": 13,
   "metadata": {},
   "outputs": [],
   "source": [
    "# Get 10 logarithmically spaced bins between kmin and kmax\n",
    "# buckets un from minimum degree to maximum degree\n",
    "bin_edges = np.logspace(np.log10(kmin), np.log10(kmax), num=10)\n",
    "\n",
    "# histogram the data into these bins\n",
    "density, _ = np.histogram(degrees, bins=bin_edges, density=True)"
   ]
  },
  {
   "cell_type": "code",
   "execution_count": 14,
   "metadata": {},
   "outputs": [
    {
     "data": {
      "image/png": "[encoded data removed]",
      "text/plain": [
       "<Figure size 600x400 with 1 Axes>"
      ]
     },
     "metadata": {},
     "output_type": "display_data"
    }
   ],
   "source": [
    "fig = plt.figure(figsize=(6,4))\n",
    "\n",
    "# \"x\" should be midpoint (IN LOG SPACE) of each bin\n",
    "log_be = np.log10(bin_edges)\n",
    "x = 10**((log_be[1:] + log_be[:-1])/2)\n",
    "\n",
    "plt.loglog(x, density, marker='o', linestyle='none')\n",
    "plt.xlabel(r\"degree $k$\", fontsize=16)\n",
    "plt.ylabel(r\"$P(k)$\", fontsize=16)\n",
    "\n",
    "# remove right and top boundaries because they're ugly\n",
    "ax = plt.gca()\n",
    "ax.spines['right'].set_visible(False)\n",
    "ax.spines['top'].set_visible(False)\n",
    "ax.yaxis.set_ticks_position('left')\n",
    "ax.xaxis.set_ticks_position('bottom')\n",
    "\n",
    "# Show the plot\n",
    "plt.show()"
   ]
  },
  {
   "cell_type": "markdown",
   "metadata": {},
   "source": [
    "### Linear-Linear Plot"
   ]
  },
  {
   "cell_type": "code",
   "execution_count": 15,
   "metadata": {},
   "outputs": [],
   "source": [
    "# CODE BELOW TAKEN FROM CPSC 572 LECTURE ON NETWORKX (WINTER 2025)\n",
    "# Get 20 logarithmically spaced bins between kmin and kmax\n",
    "bin_edges = np.linspace(kmin, kmax, num=10)  # number of bins (num=10) can be changed\n",
    "\n",
    "# histogram the data into these bins\n",
    "density, _ = np.histogram(degrees, bins=bin_edges, density=True)"
   ]
  },
  {
   "cell_type": "code",
   "execution_count": 16,
   "metadata": {},
   "outputs": [
    {
     "data": {
      "image/png": "[encoded data removed]",
      "text/plain": [
       "<Figure size 600x400 with 1 Axes>"
      ]
     },
     "metadata": {},
     "output_type": "display_data"
    }
   ],
   "source": [
    "fig = plt.figure(figsize=(6,4))\n",
    "\n",
    "# \"x\" should be midpoint (IN LOG SPACE) of each bin\n",
    "log_be = np.log10(bin_edges)\n",
    "x = 10**((log_be[1:] + log_be[:-1])/2)\n",
    "\n",
    "plt.plot(x, density, marker='o', linestyle='none')\n",
    "plt.xlabel(r\"degree $k$\", fontsize=16)\n",
    "plt.ylabel(r\"$P(k)$\", fontsize=16)\n",
    "\n",
    "# remove right and top boundaries because they're ugly\n",
    "ax = plt.gca()\n",
    "ax.spines['right'].set_visible(False)\n",
    "ax.spines['top'].set_visible(False)\n",
    "ax.yaxis.set_ticks_position('left')\n",
    "ax.xaxis.set_ticks_position('bottom')\n",
    "\n",
    "# Show the plot\n",
    "plt.show()"
   ]
  },
  {
   "cell_type": "code",
   "execution_count": 17,
   "metadata": {},
   "outputs": [],
   "source": [
    "degree_centrality = nx.degree_centrality(G)\n",
    "betweenness_centrality = nx.betweenness_centrality(G)\n",
    "closeness_centrality = nx.closeness_centrality(G)\n",
    "eigenvector_centrality = nx.eigenvector_centrality(G, max_iter=1000)"
   ]
  },
  {
   "cell_type": "code",
   "execution_count": 18,
   "metadata": {},
   "outputs": [
    {
     "name": "stdout",
     "output_type": "stream",
     "text": [
      "Top 5 diseases by Degree Centrality: [('hypokalemia', 0.522020725388601), ('drug reaction', 0.5077720207253886), ('pain after an operation', 0.5051813471502591), ('shingles (herpes zoster)', 0.49093264248704666), ('acute stress reaction', 0.48704663212435234)]\n"
     ]
    }
   ],
   "source": [
    "print(\"Top 5 diseases by Degree Centrality:\", sorted(degree_centrality.items(), key=lambda x: x[1], reverse=True)[:5])\n",
    "#these diseases have the highest number of direct symptom based connections to other diseases\n",
    "\n",
    "#Drug reaction:\n",
    "    #high connectivity suggests drug-induced conditions are frequently misdiagnosed as other illnesses.\n",
    "    \n",
    "#Pain after an operation:\n",
    "    #Post operation pain is common across many surgical procedures and may be mistaken for underlying infections or some other issues\n",
    "    \n",
    "#Shingles:\n",
    "    #High centrality suggests it may often be confused with other viral infections or autoimmune conditions.\n",
    "    \n",
    "#Acute Stress Reaction:\n",
    "    #indicates stress-related symptoms might contribute to misdiagnosis of physical diseases.\n",
    "    \n",
    "\n"
   ]
  },
  {
   "cell_type": "code",
   "execution_count": 19,
   "metadata": {},
   "outputs": [
    {
     "name": "stdout",
     "output_type": "stream",
     "text": [
      "Top 5 diseases by Betweenness Centrality: [('shingles (herpes zoster)', 0.008302474423198791), ('lyme disease', 0.006565076328624316), ('parasitic disease', 0.005502711106188218), ('lymphadenitis', 0.005303623907557194), ('drug reaction', 0.005164641297152865)]\n"
     ]
    }
   ],
   "source": [
    "print(\"Top 5 diseases by Betweenness Centrality:\", sorted(betweenness_centrality.items(), key=lambda x: x[1], reverse=True)[:5])\n",
    "\n",
    "#Shingles:\n",
    "    #Shingles has symptoms (nerve pain, rashes, fever) that overlap with both viral infections and autoimmune conditions.\n",
    "    #This suggests shingles acts as a key diagnostic confusion point, potentially being mistaken for other neurological, dermatological, or viral illnesses.\n",
    "    \n",
    "#Parasitic disease:\n",
    "    #Many parasitic diseases have vague symptoms (abdominal pain, diarrhea, fatigue), which means they might connect conditions like food poisoning, viral infections, and malabsorption disorders.\n",
    "    \n",
    "#Drug Reaction:\n",
    "    #High betweenness suggests that drug reactions bridge multiple medical conditions, leading to frequent confusion with infections, allergies, or autoimmune issues.\n",
    "    \n",
    "#These diseases connect different clusters, making them major misdiagnosis risks.\n",
    "#Doctors should carefully differentiate these from diseases in both of their clusters.\n",
    "\n"
   ]
  },
  {
   "cell_type": "code",
   "execution_count": 20,
   "metadata": {},
   "outputs": [
    {
     "name": "stdout",
     "output_type": "stream",
     "text": [
      "Top 5 diseases by Closeness Centrality: [('hypokalemia', 0.6765994741454864), ('drug reaction', 0.6701388888888888), ('pain after an operation', 0.6689774696707106), ('shingles (herpes zoster)', 0.6626609442060086), ('acute stress reaction', 0.660958904109589)]\n"
     ]
    }
   ],
   "source": [
    "print(\"Top 5 diseases by Closeness Centrality:\", sorted(closeness_centrality.items(), key=lambda x: x[1], reverse=True)[:5])\n",
    "#These diseases are highly reachable in the network, meaning they are common misdiagnosis or differential diagnosis candidates.\n",
    "#Doctors should always consider these diseases in diagnostic decisions since they connect to many symptomatically similar conditions.\n",
    "#These diseases may be important in machine learning models for automated diagnosis, as they likely appear as early-stage possibilities in differential diagnoses.\n",
    "\n"
   ]
  },
  {
   "cell_type": "code",
   "execution_count": 21,
   "metadata": {},
   "outputs": [
    {
     "name": "stdout",
     "output_type": "stream",
     "text": [
      "Top 5 diseases by Eigenvector Centrality: [('hypokalemia', 0.0820095696120754), ('pain after an operation', 0.07735926826671709), ('gastritis', 0.07639006170018714), ('drug reaction', 0.07499439055255328), ('acute kidney injury', 0.07408833976707527)]\n"
     ]
    }
   ],
   "source": [
    "print(\"Top 5 diseases by Eigenvector Centrality:\", sorted(eigenvector_centrality.items(), key=lambda x: x[1], reverse=True)[:5])\n",
    "\n",
    "\n",
    "#Since it is so interconnected, doctors should always consider checking for underlying causes of hypokalemia, as it may be a secondary symptom of another major condition.\n",
    "\n",
    "#understanding postoperative symptom patterns could help reduce unnecessary tests and avoid confusion with unrelated conditions.\n",
    "\n",
    "#These diseases act as key “hubs” in the network, influencing diagnosis patterns across multiple categories.\n",
    "#Diseases with high eigenvector centrality may serve as key “signals” in differential diagnosis algorithms.\n",
    "#Misdiagnosis risks are high when these diseases are confused with others that have similar symptoms but different underlying causes."
   ]
  },
  {
   "cell_type": "markdown",
   "metadata": {},
   "source": [
    "# Null Model \n"
   ]
  },
  {
   "cell_type": "code",
   "execution_count": 22,
   "metadata": {},
   "outputs": [
    {
     "name": "stdout",
     "output_type": "stream",
     "text": [
      "Average Clustering Coefficient:  0.5847346984108563\n",
      "Average Shortest Path:  1.7916870546756127\n"
     ]
    }
   ],
   "source": [
    "# calculate clustering coefficient and shortest path on our real data\n",
    "C = np.mean(list(nx.clustering(G).values()))\n",
    "d = nx.average_shortest_path_length(G,weight=None)\n",
    "\n",
    "print(\"Average Clustering Coefficient: \", C)\n",
    "print(\"Average Shortest Path: \", d)"
   ]
  },
  {
   "cell_type": "markdown",
   "metadata": {},
   "source": [
    "# Disease Symptom Graph\n"
   ]
  },
  {
   "cell_type": "code",
   "execution_count": 44,
   "metadata": {},
   "outputs": [
    {
     "data": {
      "image/png": "[encoded data removed]",
      "text/plain": [
       "<Figure size 600x400 with 1 Axes>"
      ]
     },
     "metadata": {},
     "output_type": "display_data"
    }
   ],
   "source": [
    " \n",
    "degrees = [G.degree(n) for n in G.nodes()]\n",
    "kmin = min(degrees)\n",
    "kmax = max(degrees)\n",
    "    \n",
    "if kmin>0:\n",
    "    bin_edges = np.logspace(np.log10(kmin), np.log10(kmax)+1, num=20)\n",
    "else:\n",
    "    bin_edges = np.logspace(0, np.log10(kmax)+1, num=20)\n",
    "density, _ = np.histogram(degrees, bins=bin_edges, density=True)\n",
    "\n",
    "fig = plt.figure(figsize=(6,4))\n",
    "\n",
    "log_be = np.log10(bin_edges)\n",
    "x = 10**((log_be[1:] + log_be[:-1])/2)\n",
    "plt.loglog(x, density, marker='o', linestyle='none')\n",
    "plt.xlabel(r\"degree $k$\", fontsize=16)\n",
    "plt.ylabel(r\"$P(k)$\", fontsize=16)\n",
    "\n",
    "ax = plt.gca()\n",
    "ax.spines['right'].set_visible(False)\n",
    "ax.spines['top'].set_visible(False)\n",
    "ax.yaxis.set_ticks_position('left')\n",
    "ax.xaxis.set_ticks_position('bottom')"
   ]
  },
  {
   "cell_type": "markdown",
   "metadata": {},
   "source": [
    "# Erdös-Renyi Graph\n"
   ]
  },
  {
   "cell_type": "code",
   "execution_count": 45,
   "metadata": {},
   "outputs": [],
   "source": [
    "GN = len(G.nodes()) # G.number_of_nodes()\n",
    "# make sure same nuber of linkes \n",
    "max_L = GN*(GN-1)/2 \n",
    "actual_L = len(G.edges()) \n",
    "p = actual_L/max_L \n",
    "\n",
    "# generate an ER graph with comparable N and average k\n",
    "ER = nx.erdos_renyi_graph(GN, p, directed=False)\n",
    "\n"
   ]
  },
  {
   "cell_type": "markdown",
   "metadata": {},
   "source": [
    "Plotting Degree Distribution Graph with Erdos Renyi model\n"
   ]
  },
  {
   "cell_type": "code",
   "execution_count": 46,
   "metadata": {},
   "outputs": [
    {
     "data": {
      "image/png": "[encoded data removed]",
      "text/plain": [
       "<Figure size 600x400 with 1 Axes>"
      ]
     },
     "metadata": {},
     "output_type": "display_data"
    }
   ],
   "source": [
    "# plot degree distribution (P(k) vs k graph) for our ER graph\n",
    "degrees = [ER.degree(n) for n in ER.nodes()]\n",
    "kmin = min(degrees)\n",
    "kmax = max(degrees)\n",
    "    \n",
    "if kmin>0:\n",
    "    bin_edges = np.logspace(np.log10(kmin), np.log10(kmax)+1, num=20)\n",
    "else:\n",
    "    bin_edges = np.logspace(0, np.log10(kmax)+1, num=20)\n",
    "density, _ = np.histogram(degrees, bins=bin_edges, density=True)\n",
    "\n",
    "fig = plt.figure(figsize=(6,4))\n",
    "\n",
    "log_be = np.log10(bin_edges)\n",
    "x = 10**((log_be[1:] + log_be[:-1])/2)\n",
    "plt.loglog(x, density, marker='o', linestyle='none')\n",
    "plt.xlabel(r\"degree $k$\", fontsize=16)\n",
    "plt.ylabel(r\"$P(k)$\", fontsize=16)\n",
    "\n",
    "ax = plt.gca()\n",
    "ax.spines['right'].set_visible(False)\n",
    "ax.spines['top'].set_visible(False)\n",
    "ax.yaxis.set_ticks_position('left')\n",
    "ax.xaxis.set_ticks_position('bottom')\n",
    "\n",
    "# Show the plot\n",
    "plt.show()\n",
    "\n"
   ]
  },
  {
   "cell_type": "code",
   "execution_count": 47,
   "metadata": {},
   "outputs": [
    {
     "ename": "KeyboardInterrupt",
     "evalue": "",
     "output_type": "error",
     "traceback": [
      "\u001b[0;31m---------------------------------------------------------------------------\u001b[0m",
      "\u001b[0;31mKeyboardInterrupt\u001b[0m                         Traceback (most recent call last)",
      "Cell \u001b[0;32mIn[47], line 14\u001b[0m\n\u001b[1;32m     12\u001b[0m ER \u001b[38;5;241m=\u001b[39m nx\u001b[38;5;241m.\u001b[39merdos_renyi_graph(GN, p, directed\u001b[38;5;241m=\u001b[39m\u001b[38;5;28;01mFalse\u001b[39;00m)\n\u001b[1;32m     13\u001b[0m \u001b[38;5;66;03m#calculate clustering\u001b[39;00m\n\u001b[0;32m---> 14\u001b[0m C_ER \u001b[38;5;241m=\u001b[39m np\u001b[38;5;241m.\u001b[39mmean(\u001b[38;5;28mlist\u001b[39m(\u001b[43mnx\u001b[49m\u001b[38;5;241;43m.\u001b[39;49m\u001b[43mclustering\u001b[49m\u001b[43m(\u001b[49m\u001b[43mER\u001b[49m\u001b[43m)\u001b[49m\u001b[38;5;241m.\u001b[39mvalues()))\n\u001b[1;32m     15\u001b[0m \u001b[38;5;66;03m# check if graph is connected (when creating ER graph, not guaranteed to be connected, \u001b[39;00m\n\u001b[1;32m     16\u001b[0m \u001b[38;5;66;03m# could exist in multiple components. if exist like that then avg shortest path length is not defined)\u001b[39;00m\n\u001b[1;32m     17\u001b[0m \u001b[38;5;28;01mif\u001b[39;00m nx\u001b[38;5;241m.\u001b[39mis_connected(ER)\u001b[38;5;241m==\u001b[39m\u001b[38;5;28;01mTrue\u001b[39;00m:\n\u001b[1;32m     18\u001b[0m     \u001b[38;5;66;03m# calculate path length\u001b[39;00m\n",
      "File \u001b[0;32m/Library/Frameworks/Python.framework/Versions/3.9/lib/python3.9/site-packages/networkx/utils/backends.py:412\u001b[0m, in \u001b[0;36m_dispatch.__call__\u001b[0;34m(self, backend, *args, **kwargs)\u001b[0m\n\u001b[1;32m    409\u001b[0m \u001b[38;5;28;01mdef\u001b[39;00m\u001b[38;5;250m \u001b[39m\u001b[38;5;21m__call__\u001b[39m(\u001b[38;5;28mself\u001b[39m, \u001b[38;5;241m/\u001b[39m, \u001b[38;5;241m*\u001b[39margs, backend\u001b[38;5;241m=\u001b[39m\u001b[38;5;28;01mNone\u001b[39;00m, \u001b[38;5;241m*\u001b[39m\u001b[38;5;241m*\u001b[39mkwargs):\n\u001b[1;32m    410\u001b[0m     \u001b[38;5;28;01mif\u001b[39;00m \u001b[38;5;129;01mnot\u001b[39;00m backends:\n\u001b[1;32m    411\u001b[0m         \u001b[38;5;66;03m# Fast path if no backends are installed\u001b[39;00m\n\u001b[0;32m--> 412\u001b[0m         \u001b[38;5;28;01mreturn\u001b[39;00m \u001b[38;5;28;43mself\u001b[39;49m\u001b[38;5;241;43m.\u001b[39;49m\u001b[43morig_func\u001b[49m\u001b[43m(\u001b[49m\u001b[38;5;241;43m*\u001b[39;49m\u001b[43margs\u001b[49m\u001b[43m,\u001b[49m\u001b[43m \u001b[49m\u001b[38;5;241;43m*\u001b[39;49m\u001b[38;5;241;43m*\u001b[39;49m\u001b[43mkwargs\u001b[49m\u001b[43m)\u001b[49m\n\u001b[1;32m    414\u001b[0m     \u001b[38;5;66;03m# Use `backend_name` in this function instead of `backend`\u001b[39;00m\n\u001b[1;32m    415\u001b[0m     backend_name \u001b[38;5;241m=\u001b[39m backend\n",
      "File \u001b[0;32m/Library/Frameworks/Python.framework/Versions/3.9/lib/python3.9/site-packages/networkx/algorithms/cluster.py:420\u001b[0m, in \u001b[0;36mclustering\u001b[0;34m(G, nodes, weight)\u001b[0m\n\u001b[1;32m    418\u001b[0m     \u001b[38;5;28;01melse\u001b[39;00m:\n\u001b[1;32m    419\u001b[0m         td_iter \u001b[38;5;241m=\u001b[39m _triangles_and_degree_iter(G, nodes)\n\u001b[0;32m--> 420\u001b[0m         clusterc \u001b[38;5;241m=\u001b[39m {v: \u001b[38;5;241m0\u001b[39m \u001b[38;5;28;01mif\u001b[39;00m t \u001b[38;5;241m==\u001b[39m \u001b[38;5;241m0\u001b[39m \u001b[38;5;28;01melse\u001b[39;00m t \u001b[38;5;241m/\u001b[39m (d \u001b[38;5;241m*\u001b[39m (d \u001b[38;5;241m-\u001b[39m \u001b[38;5;241m1\u001b[39m)) \u001b[38;5;28;01mfor\u001b[39;00m v, d, t, _ \u001b[38;5;129;01min\u001b[39;00m td_iter}\n\u001b[1;32m    421\u001b[0m \u001b[38;5;28;01mif\u001b[39;00m nodes \u001b[38;5;129;01min\u001b[39;00m G:\n\u001b[1;32m    422\u001b[0m     \u001b[38;5;66;03m# Return the value of the sole entry in the dictionary.\u001b[39;00m\n\u001b[1;32m    423\u001b[0m     \u001b[38;5;28;01mreturn\u001b[39;00m clusterc[nodes]\n",
      "File \u001b[0;32m/Library/Frameworks/Python.framework/Versions/3.9/lib/python3.9/site-packages/networkx/algorithms/cluster.py:420\u001b[0m, in \u001b[0;36m<dictcomp>\u001b[0;34m(.0)\u001b[0m\n\u001b[1;32m    418\u001b[0m     \u001b[38;5;28;01melse\u001b[39;00m:\n\u001b[1;32m    419\u001b[0m         td_iter \u001b[38;5;241m=\u001b[39m _triangles_and_degree_iter(G, nodes)\n\u001b[0;32m--> 420\u001b[0m         clusterc \u001b[38;5;241m=\u001b[39m {v: \u001b[38;5;241m0\u001b[39m \u001b[38;5;28;01mif\u001b[39;00m t \u001b[38;5;241m==\u001b[39m \u001b[38;5;241m0\u001b[39m \u001b[38;5;28;01melse\u001b[39;00m t \u001b[38;5;241m/\u001b[39m (d \u001b[38;5;241m*\u001b[39m (d \u001b[38;5;241m-\u001b[39m \u001b[38;5;241m1\u001b[39m)) \u001b[38;5;28;01mfor\u001b[39;00m v, d, t, _ \u001b[38;5;129;01min\u001b[39;00m td_iter}\n\u001b[1;32m    421\u001b[0m \u001b[38;5;28;01mif\u001b[39;00m nodes \u001b[38;5;129;01min\u001b[39;00m G:\n\u001b[1;32m    422\u001b[0m     \u001b[38;5;66;03m# Return the value of the sole entry in the dictionary.\u001b[39;00m\n\u001b[1;32m    423\u001b[0m     \u001b[38;5;28;01mreturn\u001b[39;00m clusterc[nodes]\n",
      "File \u001b[0;32m/Library/Frameworks/Python.framework/Versions/3.9/lib/python3.9/site-packages/networkx/algorithms/cluster.py:108\u001b[0m, in \u001b[0;36m_triangles_and_degree_iter\u001b[0;34m(G, nodes)\u001b[0m\n\u001b[1;32m    106\u001b[0m \u001b[38;5;28;01mfor\u001b[39;00m v, v_nbrs \u001b[38;5;129;01min\u001b[39;00m nodes_nbrs:\n\u001b[1;32m    107\u001b[0m     vs \u001b[38;5;241m=\u001b[39m \u001b[38;5;28mset\u001b[39m(v_nbrs) \u001b[38;5;241m-\u001b[39m {v}\n\u001b[0;32m--> 108\u001b[0m     gen_degree \u001b[38;5;241m=\u001b[39m \u001b[43mCounter\u001b[49m\u001b[43m(\u001b[49m\u001b[38;5;28;43mlen\u001b[39;49m\u001b[43m(\u001b[49m\u001b[43mvs\u001b[49m\u001b[43m \u001b[49m\u001b[38;5;241;43m&\u001b[39;49m\u001b[43m \u001b[49m\u001b[43m(\u001b[49m\u001b[38;5;28;43mset\u001b[39;49m\u001b[43m(\u001b[49m\u001b[43mG\u001b[49m\u001b[43m[\u001b[49m\u001b[43mw\u001b[49m\u001b[43m]\u001b[49m\u001b[43m)\u001b[49m\u001b[43m \u001b[49m\u001b[38;5;241;43m-\u001b[39;49m\u001b[43m \u001b[49m\u001b[43m{\u001b[49m\u001b[43mw\u001b[49m\u001b[43m}\u001b[49m\u001b[43m)\u001b[49m\u001b[43m)\u001b[49m\u001b[43m \u001b[49m\u001b[38;5;28;43;01mfor\u001b[39;49;00m\u001b[43m \u001b[49m\u001b[43mw\u001b[49m\u001b[43m \u001b[49m\u001b[38;5;129;43;01min\u001b[39;49;00m\u001b[43m \u001b[49m\u001b[43mvs\u001b[49m\u001b[43m)\u001b[49m\n\u001b[1;32m    109\u001b[0m     ntriangles \u001b[38;5;241m=\u001b[39m \u001b[38;5;28msum\u001b[39m(k \u001b[38;5;241m*\u001b[39m val \u001b[38;5;28;01mfor\u001b[39;00m k, val \u001b[38;5;129;01min\u001b[39;00m gen_degree\u001b[38;5;241m.\u001b[39mitems())\n\u001b[1;32m    110\u001b[0m     \u001b[38;5;28;01myield\u001b[39;00m (v, \u001b[38;5;28mlen\u001b[39m(vs), ntriangles, gen_degree)\n",
      "File \u001b[0;32m/Library/Frameworks/Python.framework/Versions/3.9/lib/python3.9/collections/__init__.py:593\u001b[0m, in \u001b[0;36mCounter.__init__\u001b[0;34m(self, iterable, **kwds)\u001b[0m\n\u001b[1;32m    582\u001b[0m \u001b[38;5;250m\u001b[39m\u001b[38;5;124;03m'''Create a new, empty Counter object.  And if given, count elements\u001b[39;00m\n\u001b[1;32m    583\u001b[0m \u001b[38;5;124;03mfrom an input iterable.  Or, initialize the count from another mapping\u001b[39;00m\n\u001b[1;32m    584\u001b[0m \u001b[38;5;124;03mof elements to their counts.\u001b[39;00m\n\u001b[0;32m   (...)\u001b[0m\n\u001b[1;32m    590\u001b[0m \n\u001b[1;32m    591\u001b[0m \u001b[38;5;124;03m'''\u001b[39;00m\n\u001b[1;32m    592\u001b[0m \u001b[38;5;28msuper\u001b[39m()\u001b[38;5;241m.\u001b[39m\u001b[38;5;21m__init__\u001b[39m()\n\u001b[0;32m--> 593\u001b[0m \u001b[38;5;28;43mself\u001b[39;49m\u001b[38;5;241;43m.\u001b[39;49m\u001b[43mupdate\u001b[49m\u001b[43m(\u001b[49m\u001b[43miterable\u001b[49m\u001b[43m,\u001b[49m\u001b[43m \u001b[49m\u001b[38;5;241;43m*\u001b[39;49m\u001b[38;5;241;43m*\u001b[39;49m\u001b[43mkwds\u001b[49m\u001b[43m)\u001b[49m\n",
      "File \u001b[0;32m/Library/Frameworks/Python.framework/Versions/3.9/lib/python3.9/collections/__init__.py:679\u001b[0m, in \u001b[0;36mCounter.update\u001b[0;34m(self, iterable, **kwds)\u001b[0m\n\u001b[1;32m    677\u001b[0m             \u001b[38;5;28msuper\u001b[39m()\u001b[38;5;241m.\u001b[39mupdate(iterable)\n\u001b[1;32m    678\u001b[0m     \u001b[38;5;28;01melse\u001b[39;00m:\n\u001b[0;32m--> 679\u001b[0m         \u001b[43m_count_elements\u001b[49m\u001b[43m(\u001b[49m\u001b[38;5;28;43mself\u001b[39;49m\u001b[43m,\u001b[49m\u001b[43m \u001b[49m\u001b[43miterable\u001b[49m\u001b[43m)\u001b[49m\n\u001b[1;32m    680\u001b[0m \u001b[38;5;28;01mif\u001b[39;00m kwds:\n\u001b[1;32m    681\u001b[0m     \u001b[38;5;28mself\u001b[39m\u001b[38;5;241m.\u001b[39mupdate(kwds)\n",
      "File \u001b[0;32m/Library/Frameworks/Python.framework/Versions/3.9/lib/python3.9/site-packages/networkx/algorithms/cluster.py:108\u001b[0m, in \u001b[0;36m<genexpr>\u001b[0;34m(.0)\u001b[0m\n\u001b[1;32m    106\u001b[0m \u001b[38;5;28;01mfor\u001b[39;00m v, v_nbrs \u001b[38;5;129;01min\u001b[39;00m nodes_nbrs:\n\u001b[1;32m    107\u001b[0m     vs \u001b[38;5;241m=\u001b[39m \u001b[38;5;28mset\u001b[39m(v_nbrs) \u001b[38;5;241m-\u001b[39m {v}\n\u001b[0;32m--> 108\u001b[0m     gen_degree \u001b[38;5;241m=\u001b[39m Counter(\u001b[38;5;28mlen\u001b[39m(\u001b[43mvs\u001b[49m\u001b[43m \u001b[49m\u001b[38;5;241;43m&\u001b[39;49m\u001b[43m \u001b[49m\u001b[43m(\u001b[49m\u001b[38;5;28;43mset\u001b[39;49m\u001b[43m(\u001b[49m\u001b[43mG\u001b[49m\u001b[43m[\u001b[49m\u001b[43mw\u001b[49m\u001b[43m]\u001b[49m\u001b[43m)\u001b[49m\u001b[43m \u001b[49m\u001b[38;5;241;43m-\u001b[39;49m\u001b[43m \u001b[49m\u001b[43m{\u001b[49m\u001b[43mw\u001b[49m\u001b[43m}\u001b[49m\u001b[43m)\u001b[49m) \u001b[38;5;28;01mfor\u001b[39;00m w \u001b[38;5;129;01min\u001b[39;00m vs)\n\u001b[1;32m    109\u001b[0m     ntriangles \u001b[38;5;241m=\u001b[39m \u001b[38;5;28msum\u001b[39m(k \u001b[38;5;241m*\u001b[39m val \u001b[38;5;28;01mfor\u001b[39;00m k, val \u001b[38;5;129;01min\u001b[39;00m gen_degree\u001b[38;5;241m.\u001b[39mitems())\n\u001b[1;32m    110\u001b[0m     \u001b[38;5;28;01myield\u001b[39;00m (v, \u001b[38;5;28mlen\u001b[39m(vs), ntriangles, gen_degree)\n",
      "\u001b[0;31mKeyboardInterrupt\u001b[0m: "
     ]
    }
   ],
   "source": [
    "# extracted from networkX cpsc 572 lecture winter 2025\n",
    "\n",
    "clustering_ER = []\n",
    "shortest_path_ER = []\n",
    "\n",
    "# generate an ensemble of 100 random graphs\n",
    "\n",
    "# we want to create 100 graphs here, each time it goes through the loop it will create ER graph\n",
    "\n",
    "for i in range(1000): \n",
    "    \n",
    "    ER = nx.erdos_renyi_graph(GN, p, directed=False)\n",
    "    #calculate clustering\n",
    "    C_ER = np.mean(list(nx.clustering(ER).values()))\n",
    "    # check if graph is connected (when creating ER graph, not guaranteed to be connected, \n",
    "    # could exist in multiple components. if exist like that then avg shortest path length is not defined)\n",
    "    if nx.is_connected(ER)==True:\n",
    "        # calculate path length\n",
    "        d_ER = nx.average_shortest_path_length(ER,weight=None)\n",
    "    clustering_ER.append(C_ER)\n",
    "    shortest_path_ER.append(d_ER)\n",
    "    \n",
    "# calculate mean and standard deviation of clustering\n",
    "print(np.mean(clustering_ER))\n",
    "print(np.std(clustering_ER ))\n",
    "# calculate mean and standard deviation of shortest path\n",
    "print(np.mean(shortest_path_ER))\n",
    "print(np.std(shortest_path_ER))"
   ]
  },
  {
   "cell_type": "markdown",
   "metadata": {},
   "source": [
    "Plotting the results from Clustering and Shortest Path and comparing it with our Real Data\n",
    "\n"
   ]
  },
  {
   "cell_type": "code",
   "execution_count": null,
   "metadata": {},
   "outputs": [
    {
     "data": {
      "image/png": "[encoded data removed]",
      "text/plain": [
       "<Figure size 600x400 with 1 Axes>"
      ]
     },
     "metadata": {},
     "output_type": "display_data"
    }
   ],
   "source": [
    "# open a figure and create a box plot\n",
    "fig = plt.figure(figsize=(6,4))\n",
    "# feed it a list of clustering ER \n",
    "# it create a boxplot of distribution of clustering across the ensemble of ER networks\n",
    "plt.boxplot(clustering_ER)\n",
    "plt.plot(2,C,'r',marker='+',markersize=15)\n",
    "# axis settings so can create labels \n",
    "ax = plt.gca()\n",
    "ax.set_xticks([1,2],labels=['ER','Disease Symptom'])\n",
    "plt.title('Clustering Graph of ER vs Disease Symptom')\n",
    "plt.ylabel('Clustering')\n",
    "plt.xlim([0.5,2.5])\n",
    "plt.show()\n"
   ]
  },
  {
   "cell_type": "code",
   "execution_count": null,
   "metadata": {},
   "outputs": [
    {
     "data": {
      "image/png": "[encoded data removed]",
      "text/plain": [
       "<Figure size 600x400 with 1 Axes>"
      ]
     },
     "metadata": {},
     "output_type": "display_data"
    }
   ],
   "source": [
    "# open a figure and create a box plot\n",
    "fig = plt.figure(figsize=(6,4))\n",
    "# feed it a list of clustering ER \n",
    "# createe a boxplot of distribution of clustering across the ensemble of ER networks\n",
    "plt.boxplot(shortest_path_ER)\n",
    "plt.plot(2,d,'r',marker='+',markersize=15)\n",
    "# axis settings so can create labels \n",
    "ax = plt.gca()\n",
    "ax.set_xticks([1,2],labels=['ER','Disease Symptom'])\n",
    "plt.title('Shortest Path Graph of ER vs Disease Symptom')\n",
    "plt.ylabel('Shortest Path')\n",
    "plt.xlim([0.5,2.5])\n",
    "plt.show()"
   ]
  },
  {
   "cell_type": "markdown",
   "metadata": {},
   "source": [
    "# Degree Preservation Graph\n",
    "\n"
   ]
  },
  {
   "cell_type": "code",
   "execution_count": null,
   "metadata": {},
   "outputs": [
    {
     "data": {
      "image/png": "[encoded data removed]",
      "text/plain": [
       "<Figure size 600x400 with 1 Axes>"
      ]
     },
     "metadata": {},
     "output_type": "display_data"
    }
   ],
   "source": [
    "# create a copy of the graph \n",
    "DP = G.copy()\n",
    "nx.double_edge_swap(DP,nswap=10*G.number_of_edges(),max_tries=10000000)\n",
    "\n",
    "#  plot degree distribution graph for our DP graph \n",
    "degrees = [DP.degree(n) for n in DP.nodes()]\n",
    "kmin = min(degrees)\n",
    "kmax = max(degrees)\n",
    "    \n",
    "if kmin>0:\n",
    "    bin_edges = np.logspace(np.log10(kmin), np.log10(kmax)+1, num=20)\n",
    "else:\n",
    "    bin_edges = np.logspace(0, np.log10(kmax)+1, num=20)\n",
    "density, _ = np.histogram(degrees, bins=bin_edges, density=True)\n",
    "\n",
    "fig = plt.figure(figsize=(6,4))\n",
    "\n",
    "log_be = np.log10(bin_edges)\n",
    "x = 10**((log_be[1:] + log_be[:-1])/2)\n",
    "plt.loglog(x, density, marker='o', linestyle='none')\n",
    "plt.xlabel(r\"degree $k$\", fontsize=16)\n",
    "plt.ylabel(r\"$P(k)$\", fontsize=16)\n",
    "\n",
    "ax = plt.gca()\n",
    "ax.spines['right'].set_visible(False)\n",
    "ax.spines['top'].set_visible(False)\n",
    "ax.yaxis.set_ticks_position('left')\n",
    "ax.xaxis.set_ticks_position('bottom')\n",
    "\n",
    "# Show the plot\n",
    "plt.show()"
   ]
  },
  {
   "cell_type": "code",
   "execution_count": 50,
   "metadata": {},
   "outputs": [],
   "source": [
    "# extracted from networkX cpsc 572 lecture winter 2025\n",
    "\n",
    "clustering_DP = []\n",
    "shortest_path_DP = []\n",
    "\n",
    "# generate an ensemble of 1000 random graphs\n",
    "for i in range(1000): # 1000 is better\n",
    "    # shuffle graph , use DP not the original graph or we will destroy data\n",
    "    nx.double_edge_swap(DP,nswap=10*G.number_of_edges(),max_tries=10000000)\n",
    "    # calculate mean of clustering\n",
    "    C_DP = np.mean(list(nx.clustering(DP).values()))\n",
    "    if nx.is_connected(DP)==True: # could also enforce connectivity, or run loop until we have 100 values\n",
    "        d_DP = nx.average_shortest_path_length(DP,weight=None)\n",
    "    clustering_DP.append(C_DP)\n",
    "    shortest_path_DP.append(d_DP)\n",
    "    \n",
    "# calculate mean and standard deviation of clustering\n",
    "print(np.mean(clustering_DP))\n",
    "print(np.std(clustering_DP))\n",
    "# calculate mean and standard deviation of shortest path\n",
    "print(np.mean(shortest_path_DP))\n",
    "print(np.std(shortest_path_DP))"
   ]
  },
  {
   "cell_type": "markdown",
   "metadata": {},
   "source": [
    "Plotting the results from Clustering and Shortest Path and comparing it with our Real Data\n",
    "\n"
   ]
  },
  {
   "cell_type": "code",
   "execution_count": null,
   "metadata": {},
   "outputs": [],
   "source": [
    "# open a figure and create a box plot\n",
    "fig = plt.figure(figsize=(6,4))\n",
    "# feed it a list of clustering ER \n",
    "# it create a boxplot of distribution of clustering across the ensemble of ER networks\n",
    "plt.boxplot(clustering_DP)\n",
    "plt.plot(2,C,'r',marker='+',markersize=15)\n",
    "# axis settings so can create labels \n",
    "ax = plt.gca()\n",
    "ax.set_xticks([1,2],labels=['DP','Disease Symptom'])\n",
    "plt.title('Clustering Graph of DP vs Disease Symptom')\n",
    "plt.ylabel('Clustering')\n",
    "plt.xlim([0.5,2.5])\n",
    "plt.show()\n"
   ]
  },
  {
   "cell_type": "code",
   "execution_count": null,
   "metadata": {},
   "outputs": [],
   "source": [
    "# open a figure and create a box plot\n",
    "fig = plt.figure(figsize=(6,4))\n",
    "# feed it a list of clustering ER \n",
    "# createe a boxplot of distribution of clustering across the ensemble of DP networks\n",
    "plt.boxplot(shortest_path_DP)\n",
    "plt.plot(2,d,'r',marker='+',markersize=15)\n",
    "# axis settings so can create labels \n",
    "ax = plt.gca()\n",
    "ax.set_xticks([1,2],labels=['DP','Disease Symptom'])\n",
    "plt.title('Shortest Path Graph of DP vs Disease Symptom')\n",
    "plt.ylabel('Shortest Path')\n",
    "plt.xlim([0.5,3.5])\n",
    "plt.show()"
   ]
  },
  {
   "cell_type": "markdown",
   "metadata": {},
   "source": [
    "# Comparing ER, DP, and Disease Symptom Graph\n"
   ]
  },
  {
   "cell_type": "code",
   "execution_count": null,
   "metadata": {},
   "outputs": [],
   "source": [
    "fig = plt.figure(figsize=(6,4))\n",
    "\n",
    "plt.boxplot([clustering_ER,clustering_DP], positions=[1,2])\n",
    "plt.plot(3,C,'r',marker='+',markersize=15)\n",
    "ax = plt.gca()\n",
    "ax.set_xticks([1,2,3],labels=['ER','DP','Disease Symptom'])\n",
    "plt.ylabel('Clustering')\n",
    "plt.xlim([0.5,3.5])\n",
    "plt.show()\n",
    "\n",
    "fig = plt.figure(figsize=(6,4))\n",
    "\n",
    "plt.boxplot([shortest_path_ER,shortest_path_DP], positions=[1,2])\n",
    "plt.plot(3,d,'r',marker='+',markersize=15)\n",
    "ax = plt.gca()\n",
    "ax.set_xticks([1,2,3],labels=['ER','DP','Disease Symptom'])\n",
    "plt.ylabel('Average Shortest Path')\n",
    "plt.xlim([0.5,3.5])\n",
    "plt.show()"
   ]
  }
 ],
 "metadata": {
  "kernelspec": {
   "display_name": "Python 3",
   "language": "python",
   "name": "python3"
  },
  "language_info": {
   "codemirror_mode": {
    "name": "ipython",
    "version": 3
   },
   "file_extension": ".py",
   "mimetype": "text/x-python",
   "name": "python",
   "nbconvert_exporter": "python",
   "pygments_lexer": "ipython3",
   "version": "3.9.7"
  },
  "orig_nbformat": 4
 },
 "nbformat": 4,
 "nbformat_minor": 2
}
