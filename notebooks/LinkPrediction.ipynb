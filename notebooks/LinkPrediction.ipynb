{
 "cells": [
  {
   "cell_type": "code",
   "execution_count": 5,
   "metadata": {},
   "outputs": [],
   "source": [
    "# imports\n",
    "import pandas as pd\n",
    "import os\n",
    "import kagglehub\n",
    "import numpy as np\n",
    "import networkx as nx\n",
    "import matplotlib.pyplot as plt\n",
    "import scipy\n",
    "\n",
    "# import kaggle "
   ]
  },
  {
   "cell_type": "code",
   "execution_count": null,
   "metadata": {},
   "outputs": [],
   "source": []
  },
  {
   "cell_type": "code",
   "execution_count": 6,
   "metadata": {},
   "outputs": [
    {
     "name": "stdout",
     "output_type": "stream",
     "text": [
      "Requirement already satisfied: scipy in /Users/rahatchowdhury/anaconda3/lib/python3.10/site-packages (1.15.2)\n",
      "Requirement already satisfied: numpy<2.5,>=1.23.5 in /Users/rahatchowdhury/anaconda3/lib/python3.10/site-packages (from scipy) (1.26.4)\n",
      "Note: you may need to restart the kernel to use updated packages.\n"
     ]
    }
   ],
   "source": [
    "pip install scipy"
   ]
  },
  {
   "cell_type": "code",
   "execution_count": 3,
   "metadata": {},
   "outputs": [],
   "source": [
    "# imports\n",
    "import pandas as pd\n",
    "# import os\n",
    "# import kagglehub\n",
    "import numpy as np\n",
    "\n",
    "import networkx as nx\n",
    "import matplotlib.pyplot as plt\n",
    "import scipy\n",
    "\n",
    "# import kaggle "
   ]
  },
  {
   "cell_type": "code",
   "execution_count": null,
   "metadata": {},
   "outputs": [],
   "source": []
  },
  {
   "cell_type": "code",
   "execution_count": 7,
   "metadata": {},
   "outputs": [],
   "source": [
    "import pickle\n",
    "\n",
    "with open(\"edges_df_sorted.pk1\", \"rb\") as f:\n",
    "    edges_df_sorted = pickle.load(f)\n",
    "\n",
    "with open(\"edges_df.pk1\", \"rb\") as f:\n",
    "    edges_df = pickle.load(f)\n",
    "    \n",
    "with open(\"df_aggregated.pk1\", \"rb\") as f:\n",
    "    df_aggregated = pickle.load(f)\n",
    "\n",
    "\n"
   ]
  },
  {
   "cell_type": "code",
   "execution_count": 8,
   "metadata": {},
   "outputs": [
    {
     "data": {
      "text/html": [
       "<div>\n",
       "<style scoped>\n",
       "    .dataframe tbody tr th:only-of-type {\n",
       "        vertical-align: middle;\n",
       "    }\n",
       "\n",
       "    .dataframe tbody tr th {\n",
       "        vertical-align: top;\n",
       "    }\n",
       "\n",
       "    .dataframe thead th {\n",
       "        text-align: right;\n",
       "    }\n",
       "</style>\n",
       "<table border=\"1\" class=\"dataframe\">\n",
       "  <thead>\n",
       "    <tr style=\"text-align: right;\">\n",
       "      <th></th>\n",
       "      <th>Disease1</th>\n",
       "      <th>Disease2</th>\n",
       "      <th>Weight</th>\n",
       "    </tr>\n",
       "  </thead>\n",
       "  <tbody>\n",
       "    <tr>\n",
       "      <th>0</th>\n",
       "      <td>abdominal aortic aneurysm</td>\n",
       "      <td>abdominal hernia</td>\n",
       "      <td>0.129099</td>\n",
       "    </tr>\n",
       "    <tr>\n",
       "      <th>1</th>\n",
       "      <td>abdominal aortic aneurysm</td>\n",
       "      <td>abscess of the lung</td>\n",
       "      <td>0.204124</td>\n",
       "    </tr>\n",
       "    <tr>\n",
       "      <th>2</th>\n",
       "      <td>abdominal aortic aneurysm</td>\n",
       "      <td>acute bronchiolitis</td>\n",
       "      <td>0.117851</td>\n",
       "    </tr>\n",
       "    <tr>\n",
       "      <th>3</th>\n",
       "      <td>abdominal aortic aneurysm</td>\n",
       "      <td>acute bronchitis</td>\n",
       "      <td>0.117851</td>\n",
       "    </tr>\n",
       "    <tr>\n",
       "      <th>4</th>\n",
       "      <td>abdominal aortic aneurysm</td>\n",
       "      <td>acute bronchospasm</td>\n",
       "      <td>0.123091</td>\n",
       "    </tr>\n",
       "    <tr>\n",
       "      <th>...</th>\n",
       "      <td>...</td>\n",
       "      <td>...</td>\n",
       "      <td>...</td>\n",
       "    </tr>\n",
       "    <tr>\n",
       "      <th>66556</th>\n",
       "      <td>white blood cell disease</td>\n",
       "      <td>whooping cough</td>\n",
       "      <td>0.298142</td>\n",
       "    </tr>\n",
       "    <tr>\n",
       "      <th>66557</th>\n",
       "      <td>white blood cell disease</td>\n",
       "      <td>wilson disease</td>\n",
       "      <td>0.192450</td>\n",
       "    </tr>\n",
       "    <tr>\n",
       "      <th>66558</th>\n",
       "      <td>white blood cell disease</td>\n",
       "      <td>yeast infection</td>\n",
       "      <td>0.111111</td>\n",
       "    </tr>\n",
       "    <tr>\n",
       "      <th>66559</th>\n",
       "      <td>whooping cough</td>\n",
       "      <td>wilson disease</td>\n",
       "      <td>0.258199</td>\n",
       "    </tr>\n",
       "    <tr>\n",
       "      <th>66560</th>\n",
       "      <td>whooping cough</td>\n",
       "      <td>zenker diverticulum</td>\n",
       "      <td>0.258199</td>\n",
       "    </tr>\n",
       "  </tbody>\n",
       "</table>\n",
       "<p>66561 rows × 3 columns</p>\n",
       "</div>"
      ],
      "text/plain": [
       "                        Disease1             Disease2    Weight\n",
       "0      abdominal aortic aneurysm     abdominal hernia  0.129099\n",
       "1      abdominal aortic aneurysm  abscess of the lung  0.204124\n",
       "2      abdominal aortic aneurysm  acute bronchiolitis  0.117851\n",
       "3      abdominal aortic aneurysm     acute bronchitis  0.117851\n",
       "4      abdominal aortic aneurysm   acute bronchospasm  0.123091\n",
       "...                          ...                  ...       ...\n",
       "66556   white blood cell disease       whooping cough  0.298142\n",
       "66557   white blood cell disease       wilson disease  0.192450\n",
       "66558   white blood cell disease      yeast infection  0.111111\n",
       "66559             whooping cough       wilson disease  0.258199\n",
       "66560             whooping cough  zenker diverticulum  0.258199\n",
       "\n",
       "[66561 rows x 3 columns]"
      ]
     },
     "execution_count": 8,
     "metadata": {},
     "output_type": "execute_result"
    }
   ],
   "source": [
    "edges_df"
   ]
  },
  {
   "cell_type": "code",
   "execution_count": 9,
   "metadata": {},
   "outputs": [],
   "source": [
    "G = nx.Graph()\n",
    "\n",
    "for _, row in edges_df.iterrows():\n",
    "    G.add_edge(row[\"Disease1\"], row[\"Disease2\"], weight=row[\"Weight\"])\n"
   ]
  },
  {
   "cell_type": "code",
   "execution_count": 10,
   "metadata": {},
   "outputs": [],
   "source": [
    "#https://medium.com/@dishasuyogi/link-prediction-3bd1a9a79f29"
   ]
  },
  {
   "attachments": {},
   "cell_type": "markdown",
   "metadata": {},
   "source": []
  },
  {
   "cell_type": "code",
   "execution_count": 11,
   "metadata": {},
   "outputs": [
    {
     "name": "stdout",
     "output_type": "stream",
     "text": [
      "Top 10 predicted disease connections (Preferential Attachment): [('drug reaction', 'lymphadenitis', 137984), ('shingles (herpes zoster)', 'lymphadenitis', 133408), ('shingles (herpes zoster)', 'sepsis', 133029), ('acute stress reaction', 'lymphadenitis', 132352), ('lyme disease', 'acute kidney injury', 131019), ('lyme disease', 'pleural effusion', 128877), ('esophagitis', 'lyme disease', 126735), ('pleural effusion', 'intracranial hemorrhage', 126711), ('lyme disease', 'hyponatremia', 125664), ('intracerebral hemorrhage', 'lymphadenitis', 124960)]\n"
     ]
    }
   ],
   "source": [
    "#using networkX defined functions for some link prediction techniques\n",
    "from networkx.algorithms.link_prediction import preferential_attachment\n",
    "\n",
    "preds = list(preferential_attachment(G))\n",
    "sorted_preds = sorted(preds, key=lambda x: x[2], reverse=True)[:10]\n",
    "print(\"Top 10 predicted disease connections (Preferential Attachment):\", sorted_preds)\n",
    "\n",
    "#returns unconnected nodes (just how preferential_attachment function works)\n",
    "#score is based on the degrees of both diseases multiplied together\n",
    "#high likelihood that they may share common symptoms, even if they aren't directly observed yet, so they should be further invested\n",
    "\n",
    "\n",
    "\n",
    "\n"
   ]
  },
  {
   "cell_type": "code",
   "execution_count": 12,
   "metadata": {},
   "outputs": [
    {
     "name": "stdout",
     "output_type": "stream",
     "text": [
      "Not connected (valid prediction): drug reaction — lymphadenitis\n",
      "Not connected (valid prediction): shingles (herpes zoster) — lymphadenitis\n",
      "Not connected (valid prediction): sepsis — shingles (herpes zoster)\n",
      "Not connected (valid prediction): acute stress reaction — lymphadenitis\n",
      "Not connected (valid prediction): lyme disease — acute kidney injury\n",
      "Not connected (valid prediction): lyme disease — pleural effusion\n",
      "Not connected (valid prediction): lyme disease — esophagitis\n",
      "Not connected (valid prediction): pleural effusion — intracranial hemorrhage\n",
      "Not connected (valid prediction): lyme disease — hyponatremia\n",
      "Not connected (valid prediction): lymphadenitis — intracerebral hemorrhage\n"
     ]
    }
   ],
   "source": [
    "#sanity check, wanted to make sure it wasn't defining potential links between diseases that are already linked together\n",
    "predicted_pairs = [\n",
    "    ('drug reaction', 'lymphadenitis'),\n",
    "    ('shingles (herpes zoster)', 'lymphadenitis'),\n",
    "    ('sepsis', 'shingles (herpes zoster)'),\n",
    "    ('acute stress reaction', 'lymphadenitis'),\n",
    "    ('lyme disease', 'acute kidney injury'),\n",
    "    ('lyme disease', 'pleural effusion'),\n",
    "    ('lyme disease', 'esophagitis'),\n",
    "    ('pleural effusion', 'intracranial hemorrhage'),\n",
    "    ('lyme disease', 'hyponatremia'),\n",
    "    ('lymphadenitis', 'intracerebral hemorrhage')\n",
    "]\n",
    "\n",
    "for u, v in predicted_pairs:\n",
    "    if G.has_edge(u, v):\n",
    "        print(f\"Already connected: {u} — {v}\")\n",
    "    else:\n",
    "        print(f\"Not connected (valid prediction): {u} — {v}\")\n"
   ]
  },
  {
   "cell_type": "code",
   "execution_count": 13,
   "metadata": {},
   "outputs": [
    {
     "name": "stdout",
     "output_type": "stream",
     "text": [
      "Top 10 predicted disease connections (Common Neighbor Expansion): [('drug reaction', 'lymphadenitis', 0.3481996270888207), ('persistent vomiting of unknown cause', 'smoking or tobacco addiction', 0.34366988802055926), ('headache after lumbar puncture', 'pleural effusion', 0.34255645619346636), ('thoracic aortic aneurysm', 'flu', 0.332543577321857), ('persistent vomiting of unknown cause', 'sarcoidosis', 0.3323469763190163), ('pleural effusion', 'labyrinthitis', 0.3315912379189221), ('carbon monoxide poisoning', 'pleural effusion', 0.3309285068080919), ('thoracic aortic aneurysm', 'strep throat', 0.3301448438760564), ('smoking or tobacco addiction', 'hypovolemia', 0.3297483597249609), ('shingles (herpes zoster)', 'sepsis', 0.32869189742762933)]\n"
     ]
    }
   ],
   "source": [
    "betweenness = nx.betweenness_centrality(G)\n",
    "\n",
    "def cn_ex_score(G, u, v):\n",
    "    common_neighbors = set(G.neighbors(u)).intersection(G.neighbors(v))\n",
    "    return sum(betweenness[w] for w in common_neighbors)\n",
    "\n",
    "#make sure it's applying to non edges\n",
    "preds = [(u, v, cn_ex_score(G, u, v)) for u, v in nx.non_edges(G)]\n",
    "sorted_preds = sorted(preds, key=lambda x: x[2], reverse=True)[:10]\n",
    "print(\"Top 10 predicted disease connections (Common Neighbor Expansion):\", sorted_preds)\n",
    "\n",
    "#high betweenness would be like a bridge right, and it connects clusters of seperate diseases\n",
    "#idea is that two diseases are likely connected if they share neighbours that act as important bridges in the network\n",
    "\n",
    "#so we are looking at pair of diseases that are not currently connected, and we look at their common neighybours, and just sums the betweenness centrality scores of the common neighbours\n",
    "#nodes that are acting as bridges or hubs could contribute to two diseases being related\n",
    "#ex: drug reaction and lymphadenitis have common neighbours\n",
    "#score is based on the sum of the betweenness centrality scores in the common neighbours"
   ]
  },
  {
   "cell_type": "code",
   "execution_count": 14,
   "metadata": {},
   "outputs": [
    {
     "data": {
      "image/png": "[encoded data removed]",
      "text/plain": [
       "<Figure size 640x480 with 1 Axes>"
      ]
     },
     "metadata": {},
     "output_type": "display_data"
    }
   ],
   "source": [
    "#wanted to see why the scores seemed kinda low\n",
    "import matplotlib.pyplot as plt\n",
    "\n",
    "plt.hist(betweenness.values(), bins=50)\n",
    "plt.title(\"Distribution of Betweenness Centrality\")\n",
    "plt.xlabel(\"Betweenness Score\")\n",
    "plt.ylabel(\"Number of Diseases\")\n",
    "plt.show()\n"
   ]
  },
  {
   "cell_type": "code",
   "execution_count": 15,
   "metadata": {},
   "outputs": [
    {
     "name": "stdout",
     "output_type": "stream",
     "text": [
      "Top 10 Predicted Disease Links (Jaccard Coefficient):\n",
      "\n",
      "foreign body in the throat — aplastic anemia: 0.4661\n",
      "tonsillitis — friedrich ataxia: 0.4620\n",
      "whooping cough — aplastic anemia: 0.4524\n",
      "narcolepsy — alcohol withdrawal: 0.4500\n",
      "headache after lumbar puncture — pleural effusion: 0.4420\n",
      "smoking or tobacco addiction — hypoglycemia: 0.4414\n",
      "lactose intolerance — achalasia: 0.4413\n",
      "erythema multiforme — hemolytic anemia: 0.4410\n",
      "drug reaction — lymphadenitis: 0.4391\n",
      "open wound from surgical incision — hirsutism: 0.4224\n"
     ]
    }
   ],
   "source": [
    "from networkx.algorithms.link_prediction import jaccard_coefficient\n",
    "\n",
    "jaccard_preds = list(jaccard_coefficient(G))\n",
    "\n",
    "top_10_jaccard = sorted(jaccard_preds, key=lambda x: x[2], reverse=True)[:10]\n",
    "\n",
    "print(\"Top 10 Predicted Disease Links (Jaccard Coefficient):\\n\")\n",
    "for u, v, score in top_10_jaccard:\n",
    "    print(f\"{u} — {v}: {score:.4f}\")\n",
    "\n",
    "#jaccards works on non-links\n",
    "\n",
    "#sort so that for each x in the list, use the third element (which is the score) as the key to sort by\n"
   ]
  },
  {
   "cell_type": "code",
   "execution_count": 16,
   "metadata": {},
   "outputs": [
    {
     "name": "stdout",
     "output_type": "stream",
     "text": [
      "Top 10 Predicted Disease Links (Adamic-Adar Index):\n",
      "\n",
      "drug reaction — lymphadenitis: 41.9591\n",
      "headache after lumbar puncture — pleural effusion: 36.5498\n",
      "shingles (herpes zoster) — lymphadenitis: 36.3356\n",
      "smoking or tobacco addiction — hypoglycemia: 36.0910\n",
      "pleural effusion — labyrinthitis: 34.8218\n",
      "smoking or tobacco addiction — hypovolemia: 34.7543\n",
      "persistent vomiting of unknown cause — smoking or tobacco addiction: 34.6091\n",
      "carbon monoxide poisoning — pleural effusion: 34.0477\n",
      "persistent vomiting of unknown cause — sarcoidosis: 33.4763\n",
      "narcolepsy — alcohol withdrawal: 33.0086\n"
     ]
    }
   ],
   "source": [
    "# https://networkx.org/documentation/stable/reference/algorithms/generated/networkx.algorithms.link_prediction.adamic_adar_index.html\n",
    "\n",
    "from networkx.algorithms.link_prediction import adamic_adar_index\n",
    "\n",
    "aa_preds = list(adamic_adar_index(G))\n",
    "\n",
    "top_10_aa = sorted(aa_preds, key=lambda x: x[2], reverse=True)[:10]\n",
    "\n",
    "print(\"Top 10 Predicted Disease Links (Adamic-Adar Index):\\n\")\n",
    "for u, v, score in top_10_aa:\n",
    "    print(f\"{u} — {v}: {score:.4f}\")\n"
   ]
  },
  {
   "cell_type": "code",
   "execution_count": 8,
   "metadata": {},
   "outputs": [],
   "source": [
    "#https://networkx.org/documentation/stable/reference/algorithms/generated/networkx.algorithms.link_prediction.cn_soundarajan_hopcroft.html\n",
    "\n",
    "\n"
   ]
  }
 ],
 "metadata": {
  "kernelspec": {
   "display_name": "base",
   "language": "python",
   "name": "python3"
  },
  "language_info": {
   "codemirror_mode": {
    "name": "ipython",
    "version": 3
   },
   "file_extension": ".py",
   "mimetype": "text/x-python",
   "name": "python",
   "nbconvert_exporter": "python",
   "pygments_lexer": "ipython3",
   "version": "3.10.13"
  },
  "orig_nbformat": 4,
  "vscode": {
   "interpreter": {
    "hash": "732dd2f2352ba1221ce9a8b29162e62c37f30dd622db175b8921dd5a0cdd8507"
   }
  }
 },
 "nbformat": 4,
 "nbformat_minor": 2
}
