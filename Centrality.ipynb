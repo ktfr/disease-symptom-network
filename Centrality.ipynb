{
 "cells": [
  {
   "cell_type": "code",
   "execution_count": 1,
   "metadata": {},
   "outputs": [],
   "source": [
    "# imports\n",
    "import pandas as pd\n",
    "import os\n",
    "import kagglehub\n",
    "import numpy as np\n",
    "import networkx as nx\n",
    "import matplotlib.pyplot as plt\n",
    "import scipy\n",
    "\n",
    "# import kaggle "
   ]
  },
  {
   "cell_type": "code",
   "execution_count": null,
   "metadata": {},
   "outputs": [],
   "source": []
  },
  {
   "cell_type": "code",
   "execution_count": 7,
   "metadata": {},
   "outputs": [
    {
     "name": "stdout",
     "output_type": "stream",
     "text": [
      "Requirement already satisfied: scipy in /Users/rahatchowdhury/anaconda3/lib/python3.10/site-packages (1.15.2)\n",
      "Requirement already satisfied: numpy<2.5,>=1.23.5 in /Users/rahatchowdhury/anaconda3/lib/python3.10/site-packages (from scipy) (1.26.4)\n",
      "Note: you may need to restart the kernel to use updated packages.\n"
     ]
    }
   ],
   "source": [
    "pip install scipy"
   ]
  },
  {
   "cell_type": "code",
   "execution_count": 12,
   "metadata": {},
   "outputs": [],
   "source": [
    "# imports\n",
    "import pandas as pd\n",
    "# import os\n",
    "# import kagglehub\n",
    "import numpy as np\n",
    "\n",
    "import networkx as nx\n",
    "import matplotlib.pyplot as plt\n",
    "import scipy\n",
    "\n",
    "# import kaggle "
   ]
  },
  {
   "cell_type": "code",
   "execution_count": null,
   "metadata": {},
   "outputs": [],
   "source": []
  },
  {
   "cell_type": "code",
   "execution_count": 16,
   "metadata": {},
   "outputs": [],
   "source": [
    "import pickle\n",
    "\n",
    "with open(\"edges_df_sorted.pk1\", \"rb\") as f:\n",
    "    edges_df_sorted = pickle.load(f)\n",
    "\n",
    "with open(\"edges_df.pk1\", \"rb\") as f:\n",
    "    edges_df = pickle.load(f)\n",
    "    \n",
    "with open(\"df_aggregated.pk1\", \"rb\") as f:\n",
    "    df_aggregated = pickle.load(f)\n",
    "\n",
    "\n"
   ]
  },
  {
   "cell_type": "code",
   "execution_count": 19,
   "metadata": {},
   "outputs": [
    {
     "data": {
      "text/html": [
       "<div>\n",
       "<style scoped>\n",
       "    .dataframe tbody tr th:only-of-type {\n",
       "        vertical-align: middle;\n",
       "    }\n",
       "\n",
       "    .dataframe tbody tr th {\n",
       "        vertical-align: top;\n",
       "    }\n",
       "\n",
       "    .dataframe thead th {\n",
       "        text-align: right;\n",
       "    }\n",
       "</style>\n",
       "<table border=\"1\" class=\"dataframe\">\n",
       "  <thead>\n",
       "    <tr style=\"text-align: right;\">\n",
       "      <th></th>\n",
       "      <th>Disease1</th>\n",
       "      <th>Disease2</th>\n",
       "      <th>Weight</th>\n",
       "    </tr>\n",
       "  </thead>\n",
       "  <tbody>\n",
       "    <tr>\n",
       "      <th>0</th>\n",
       "      <td>abdominal aortic aneurysm</td>\n",
       "      <td>abdominal hernia</td>\n",
       "      <td>1</td>\n",
       "    </tr>\n",
       "    <tr>\n",
       "      <th>1</th>\n",
       "      <td>abdominal aortic aneurysm</td>\n",
       "      <td>abscess of the lung</td>\n",
       "      <td>1</td>\n",
       "    </tr>\n",
       "    <tr>\n",
       "      <th>2</th>\n",
       "      <td>abdominal aortic aneurysm</td>\n",
       "      <td>acute bronchiolitis</td>\n",
       "      <td>1</td>\n",
       "    </tr>\n",
       "    <tr>\n",
       "      <th>3</th>\n",
       "      <td>abdominal aortic aneurysm</td>\n",
       "      <td>acute bronchitis</td>\n",
       "      <td>1</td>\n",
       "    </tr>\n",
       "    <tr>\n",
       "      <th>4</th>\n",
       "      <td>abdominal aortic aneurysm</td>\n",
       "      <td>acute bronchospasm</td>\n",
       "      <td>1</td>\n",
       "    </tr>\n",
       "    <tr>\n",
       "      <th>...</th>\n",
       "      <td>...</td>\n",
       "      <td>...</td>\n",
       "      <td>...</td>\n",
       "    </tr>\n",
       "    <tr>\n",
       "      <th>66556</th>\n",
       "      <td>white blood cell disease</td>\n",
       "      <td>whooping cough</td>\n",
       "      <td>2</td>\n",
       "    </tr>\n",
       "    <tr>\n",
       "      <th>66557</th>\n",
       "      <td>white blood cell disease</td>\n",
       "      <td>wilson disease</td>\n",
       "      <td>1</td>\n",
       "    </tr>\n",
       "    <tr>\n",
       "      <th>66558</th>\n",
       "      <td>white blood cell disease</td>\n",
       "      <td>yeast infection</td>\n",
       "      <td>1</td>\n",
       "    </tr>\n",
       "    <tr>\n",
       "      <th>66559</th>\n",
       "      <td>whooping cough</td>\n",
       "      <td>wilson disease</td>\n",
       "      <td>1</td>\n",
       "    </tr>\n",
       "    <tr>\n",
       "      <th>66560</th>\n",
       "      <td>whooping cough</td>\n",
       "      <td>zenker diverticulum</td>\n",
       "      <td>1</td>\n",
       "    </tr>\n",
       "  </tbody>\n",
       "</table>\n",
       "<p>66561 rows × 3 columns</p>\n",
       "</div>"
      ],
      "text/plain": [
       "                        Disease1             Disease2  Weight\n",
       "0      abdominal aortic aneurysm     abdominal hernia       1\n",
       "1      abdominal aortic aneurysm  abscess of the lung       1\n",
       "2      abdominal aortic aneurysm  acute bronchiolitis       1\n",
       "3      abdominal aortic aneurysm     acute bronchitis       1\n",
       "4      abdominal aortic aneurysm   acute bronchospasm       1\n",
       "...                          ...                  ...     ...\n",
       "66556   white blood cell disease       whooping cough       2\n",
       "66557   white blood cell disease       wilson disease       1\n",
       "66558   white blood cell disease      yeast infection       1\n",
       "66559             whooping cough       wilson disease       1\n",
       "66560             whooping cough  zenker diverticulum       1\n",
       "\n",
       "[66561 rows x 3 columns]"
      ]
     },
     "execution_count": 19,
     "metadata": {},
     "output_type": "execute_result"
    }
   ],
   "source": [
    "edges_df"
   ]
  },
  {
   "cell_type": "code",
   "execution_count": 22,
   "metadata": {},
   "outputs": [],
   "source": [
    "G = nx.Graph()\n",
    "\n",
    "for _, row in edges_df.iterrows():\n",
    "    G.add_edge(row[\"Disease1\"], row[\"Disease2\"], weight=row[\"Weight\"])\n"
   ]
  },
  {
   "cell_type": "code",
   "execution_count": null,
   "metadata": {},
   "outputs": [],
   "source": []
  },
  {
   "cell_type": "code",
   "execution_count": 23,
   "metadata": {},
   "outputs": [],
   "source": [
    "degree_centrality = nx.degree_centrality(G)\n",
    "betweenness_centrality = nx.betweenness_centrality(G)\n",
    "closeness_centrality = nx.closeness_centrality(G)\n",
    "eigenvector_centrality = nx.eigenvector_centrality(G, max_iter=1000)"
   ]
  },
  {
   "cell_type": "markdown",
   "metadata": {},
   "source": []
  },
  {
   "cell_type": "code",
   "execution_count": 29,
   "metadata": {},
   "outputs": [
    {
     "name": "stdout",
     "output_type": "stream",
     "text": [
      "Top 5 diseases by Degree Centrality: [('hypokalemia', 0.522020725388601), ('drug reaction', 0.5077720207253886), ('pain after an operation', 0.5051813471502591), ('shingles (herpes zoster)', 0.49093264248704666), ('acute stress reaction', 0.48704663212435234)]\n"
     ]
    }
   ],
   "source": [
    "print(\"Top 5 diseases by Degree Centrality:\", sorted(degree_centrality.items(), key=lambda x: x[1], reverse=True)[:5])\n",
    "#these diseases have the highest number of direct symptom based connections to other diseases\n",
    "\n",
    "#Drug reaction:\n",
    "    #high connectivity suggests drug-induced conditions are frequently misdiagnosed as other illnesses.\n",
    "    \n",
    "#Pain after an operation:\n",
    "    #Post operation pain is common across many surgical procedures and may be mistaken for underlying infections or some other issues\n",
    "    \n",
    "#Shingles:\n",
    "    #High centrality suggests it may often be confused with other viral infections or autoimmune conditions.\n",
    "    \n",
    "#Acute Stress Reaction:\n",
    "    #indicates stress-related symptoms might contribute to misdiagnosis of physical diseases.\n",
    "    \n",
    "\n"
   ]
  },
  {
   "cell_type": "code",
   "execution_count": 30,
   "metadata": {},
   "outputs": [
    {
     "name": "stdout",
     "output_type": "stream",
     "text": [
      "Top 5 diseases by Betweenness Centrality: [('shingles (herpes zoster)', 0.008302474423198791), ('lyme disease', 0.006565076328624316), ('parasitic disease', 0.005502711106188218), ('lymphadenitis', 0.005303623907557194), ('drug reaction', 0.005164641297152865)]\n"
     ]
    }
   ],
   "source": [
    "print(\"Top 5 diseases by Betweenness Centrality:\", sorted(betweenness_centrality.items(), key=lambda x: x[1], reverse=True)[:5])\n",
    "\n",
    "#Shingles:\n",
    "    #Shingles has symptoms (nerve pain, rashes, fever) that overlap with both viral infections and autoimmune conditions.\n",
    "    #This suggests shingles acts as a key diagnostic confusion point, potentially being mistaken for other neurological, dermatological, or viral illnesses.\n",
    "    \n",
    "#Parasitic disease:\n",
    "    #Many parasitic diseases have vague symptoms (abdominal pain, diarrhea, fatigue), which means they might connect conditions like food poisoning, viral infections, and malabsorption disorders.\n",
    "    \n",
    "#Drug Reaction:\n",
    "    #High betweenness suggests that drug reactions bridge multiple medical conditions, leading to frequent confusion with infections, allergies, or autoimmune issues.\n",
    "    \n",
    "#These diseases connect different clusters, making them major misdiagnosis risks.\n",
    "#Doctors should carefully differentiate these from diseases in both of their clusters.\n",
    "\n"
   ]
  },
  {
   "cell_type": "code",
   "execution_count": 31,
   "metadata": {},
   "outputs": [
    {
     "name": "stdout",
     "output_type": "stream",
     "text": [
      "Top 5 diseases by Closeness Centrality: [('hypokalemia', 0.6765994741454864), ('drug reaction', 0.6701388888888888), ('pain after an operation', 0.6689774696707106), ('shingles (herpes zoster)', 0.6626609442060086), ('acute stress reaction', 0.660958904109589)]\n"
     ]
    }
   ],
   "source": [
    "print(\"Top 5 diseases by Closeness Centrality:\", sorted(closeness_centrality.items(), key=lambda x: x[1], reverse=True)[:5])\n",
    "#These diseases are highly reachable in the network, meaning they are common misdiagnosis or differential diagnosis candidates.\n",
    "#Doctors should always consider these diseases in diagnostic decisions since they connect to many symptomatically similar conditions.\n",
    "#These diseases may be important in machine learning models for automated diagnosis, as they likely appear as early-stage possibilities in differential diagnoses.\n",
    "\n"
   ]
  },
  {
   "cell_type": "code",
   "execution_count": 32,
   "metadata": {},
   "outputs": [
    {
     "name": "stdout",
     "output_type": "stream",
     "text": [
      "Top 5 diseases by Eigenvector Centrality: [('hypokalemia', 0.0820095696120754), ('pain after an operation', 0.07735926826671709), ('gastritis', 0.07639006170018713), ('drug reaction', 0.07499439055255328), ('acute kidney injury', 0.07408833976707525)]\n"
     ]
    }
   ],
   "source": [
    "print(\"Top 5 diseases by Eigenvector Centrality:\", sorted(eigenvector_centrality.items(), key=lambda x: x[1], reverse=True)[:5])\n",
    "\n",
    "\n",
    "#Since it is so interconnected, doctors should always consider checking for underlying causes of hypokalemia, as it may be a secondary symptom of another major condition.\n",
    "\n",
    "#understanding postoperative symptom patterns could help reduce unnecessary tests and avoid confusion with unrelated conditions.\n",
    "\n",
    "#These diseases act as key “hubs” in the network, influencing diagnosis patterns across multiple categories.\n",
    "#Diseases with high eigenvector centrality may serve as key “signals” in differential diagnosis algorithms.\n",
    "#Misdiagnosis risks are high when these diseases are confused with others that have similar symptoms but different underlying causes."
   ]
  },
  {
   "cell_type": "code",
   "execution_count": 35,
   "metadata": {},
   "outputs": [
    {
     "data": {
      "image/png": "[encoded data removed]",
      "text/plain": [
       "<Figure size 600x400 with 2 Axes>"
      ]
     },
     "metadata": {},
     "output_type": "display_data"
    }
   ],
   "source": [
    "\n",
    "\n",
    "# dataframe with centrality values for different diseases\n",
    "df = pd.DataFrame({\n",
    "    \"Disease\": list(G.nodes()),\n",
    "    \"Degree Centrality\": [degree_centrality[n] for n in G.nodes()],\n",
    "    \"Betweenness Centrality\": [betweenness_centrality[n] for n in G.nodes()],\n",
    "    \"Closeness Centrality\": [closeness_centrality[n] for n in G.nodes()],\n",
    "    \"Eigenvector Centrality\": [eigenvector_centrality[n] for n in G.nodes()]\n",
    "})\n",
    "\n",
    "#remove the disease column so we don't use it for the correlation calculations\n",
    "corr = df.drop(columns=\"Disease\").corr()\n",
    "\n",
    "plt.figure(figsize=(6, 4))\n",
    "sns.heatmap(corr, annot=True, cmap=\"coolwarm\", fmt=\".2f\", linewidths=0.5)\n",
    "plt.title(\"Correlation Between Centrality Measures\")\n",
    "plt.show()\n",
    "\n",
    "#degree centrality and closeness centrality have 0.99, almost a perfect correlation. \n",
    "    #so diseases that have many direct connections or high degree, also tend to be close to other diseases in the network\n",
    "    #this means highly connected diseases can quickly reach others within the network \n",
    "#degree centrality and eigenvector centrality have 0.97, almost a perfect correlation. \n",
    "    #diseases that are well connected and have high degree, and are also connected to other highly influential diseases\n",
    "    #so hubs in the network are also likely to be influential when it comes to connections\n",
    "#closeness centrality and eigenvector centrality have 0.96\n",
    "    #nodes that are closer to all othe rnodes are also in well-connected cores of the network\n",
    "    #network structure then indicates there are some well-connected components\n",
    "    \n",
    "#betweenness centrality and degree centrality have 0.78\n",
    "    #diseases with high degree centrality can sometimes also act as bridges in the network\n",
    "    #not all highly connected nodes are important bridges\n",
    "    \n",
    "#betweeness centrality and closeness centrality have 0.77\n",
    "    #some central nodes are critical for shortest paths, but not all \n",
    "    #if a disease is central, but doesn't act as a bridge between clusters, it would have lower betweenness\n",
    "\n",
    "#betweeness centrality and eigenvector centrality have 0.67\n",
    "    #means that the most influential diseases are not necessarily the key bridges in the network\n",
    "    #some diseases could be central within the community but do not play a major role in connecting different disease groups\n",
    "    \n",
    "#high correlation between the degree, closeness and eigenvector centrality could mean that the network has a strong core of diseases that are both highly connected and influential \n",
    "#diseases in this cluster could influence a lot of the network\n",
    "\n",
    "#due to the moderate correlation between betweeness and the other ones, it might mean that some bridging diseases like shingles may not be the most directly connected diseases\n",
    "#they could play a role in linking different clusters of diseases\n",
    "\n"
   ]
  },
  {
   "cell_type": "code",
   "execution_count": 38,
   "metadata": {},
   "outputs": [
    {
     "name": "stdout",
     "output_type": "stream",
     "text": [
      "Core Diseases (Top 3 in Degree, Closeness, and Eigenvector Centrality):\n",
      "                     Disease  Degree Centrality  Betweenness Centrality  \\\n",
      "124              hypokalemia           0.522021                0.003372   \n",
      "73             drug reaction           0.507772                0.005165   \n",
      "185  pain after an operation           0.505181                0.003807   \n",
      "\n",
      "     Closeness Centrality  Eigenvector Centrality  \n",
      "124              0.676599                0.082010  \n",
      "73               0.670139                0.074994  \n",
      "185              0.668977                0.077359  \n",
      "\n",
      "Key Bridge Diseases (High Betweenness, Moderate Degree):\n",
      "                      Disease  Degree Centrality  Betweenness Centrality  \\\n",
      "190         parasitic disease           0.428756                0.005503   \n",
      "368              lyme disease           0.462435                0.006565   \n",
      "227  shingles (herpes zoster)           0.490933                0.008302   \n",
      "\n",
      "     Closeness Centrality  Eigenvector Centrality  \n",
      "190              0.636439                0.056398  \n",
      "368              0.650379                0.058819  \n",
      "227              0.662661                0.064440  \n"
     ]
    }
   ],
   "source": [
    "\n",
    "# Get the top 3 diseases for each centrality measure\n",
    "top_n = 3\n",
    "\n",
    "# Core Diseases: Highest in Degree, Closeness, and Eigenvector Centrality\n",
    "core_diseases = df.nlargest(top_n, [\"Degree Centrality\", \"Closeness Centrality\", \"Eigenvector Centrality\"])\n",
    "\n",
    "#top betweenness but smallest degree centrality\n",
    "bridge_diseases = df.nlargest(top_n, \"Betweenness Centrality\").nsmallest(top_n, \"Degree Centrality\")\n",
    "\n",
    "print(\"Core Diseases (Top 3 in Degree, Closeness, and Eigenvector Centrality):\")\n",
    "print(core_diseases)\n",
    "\n",
    "print(\"\\nKey Bridge Diseases (High Betweenness, Moderate Degree):\")\n",
    "print(bridge_diseases)\n",
    "\n",
    "#the core diseases: hypokalemia, drug reaction, and pain after an operation:\n",
    "    #they interact with many other diseases in the network, and because they have high cloeness centrality, they can reach other diseases through a small number of steps\n",
    "    #eigenvector is also high, so they are not only well-connected, but also connected to other influential diseases\n",
    "    #diseases could be served as key hubs for multiple medical issues, and monitoring these diseases could have effects on other conditions\n",
    "    #ex: hypokalemia is low potassium levels, and is linked to other issues like muscle weakness and kidney dysfunction. Monitoring this in potentially at-risk patients could help prevent other complications\n",
    "    #pain after an operation could lead to chronic pain, pain killer dependence or psychological stress. Monitoring post-operation pain can help with proper pain management and reduces long term health risks\n",
    "        #however, pain after an operation could just be a normal issue after any kind of operation, so it may not be worth going into further\n",
    "    #these diseases are frequently confused with many other conditions due to symptom overlap, so they are high risk of misdiagnosis, which could result in delayed or wrong treatment. \n",
    "    #doctors should always consider alternative diagnoses when encountering these conditions\n",
    "    #patients that are showing symptoms that are related to these symptoms should go through detailed evaluations to rule out other illnesses\n",
    "    #if a patient has one of these diseases, though we can't say if they would develop other diseases, it suggests that multiple potential diagnoses would need to be ruled out\n",
    "    #ex: someone diagnosed with hypokalemia, might also be evaluated for chronic kidney disease, metabolic disorders \n",
    "    #some of these diseases could be connections betweeen different medical specializations. So again with hypokalemia, different doctors under different specializations would need to collaborate when treating this because of it's connections to multiple organs or medical areas\n",
    "    \n",
    "        \n",
    "        \n",
    "    \n",
    "    \n",
    "#some bridge diseases with high betweenness but lower degree was parasitic disease, lyme disease, and shingles\n",
    "    #these roles play a big role in connecting different clusters\n",
    "    #these diseases couldd spread between different medical conditions. \n",
    "    #diseases could be targeted to break links between multiple disease clusters. \n",
    "    #since these diseases connect seperate symptom groups, they also could require multi-area expertise\n",
    "    #ex: lyme disease starts as an infectious disease but progresses to joint. misdiagnosis could delay treatment, and have long-term nerve damage\n",
    "    #they might be harder to classify initially because they share symptoms with a wide variety of diseases. and could be mistakenly looked at as a common condition\n",
    "    #ex: parasitic disease, could mimic common intestinal issues, which again leads to delayed treatment\n",
    "    \n",
    "    \n"
   ]
  }
 ],
 "metadata": {
  "kernelspec": {
   "display_name": "base",
   "language": "python",
   "name": "python3"
  },
  "language_info": {
   "codemirror_mode": {
    "name": "ipython",
    "version": 3
   },
   "file_extension": ".py",
   "mimetype": "text/x-python",
   "name": "python",
   "nbconvert_exporter": "python",
   "pygments_lexer": "ipython3",
   "version": "3.10.13"
  },
  "orig_nbformat": 4,
  "vscode": {
   "interpreter": {
    "hash": "732dd2f2352ba1221ce9a8b29162e62c37f30dd622db175b8921dd5a0cdd8507"
   }
  }
 },
 "nbformat": 4,
 "nbformat_minor": 2
}
